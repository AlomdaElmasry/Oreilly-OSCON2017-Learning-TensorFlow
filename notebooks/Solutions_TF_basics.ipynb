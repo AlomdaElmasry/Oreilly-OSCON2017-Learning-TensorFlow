{
 "cells": [
  {
   "cell_type": "markdown",
   "metadata": {},
   "source": [
    "<img src=\"./img/oscon.png\" width=\"400\">"
   ]
  },
  {
   "cell_type": "markdown",
   "metadata": {},
   "source": [
    "# Solutions for TensorFlow basics"
   ]
  },
  {
   "cell_type": "markdown",
   "metadata": {},
   "source": [
    "# Hands-on .1"
   ]
  },
  {
   "cell_type": "markdown",
   "metadata": {
    "collapsed": false
   },
   "source": [
    "<img src=\"./img/hands_on_1.png\" width=\"6000\">"
   ]
  },
  {
   "cell_type": "code",
   "execution_count": 11,
   "metadata": {
    "collapsed": false
   },
   "outputs": [
    {
     "name": "stdout",
     "output_type": "stream",
     "text": [
      "Outputs for graph A: [5, 2, 3, 10, 5, 5]\n",
      "Outputs for graph B: [5.0, 3.0, 15.0, 0.65028787, 4.6133413]\n",
      "Outputs for graph C: [2, 5, 10, 7, 2, 5]\n"
     ]
    }
   ],
   "source": [
    "import tensorflow as tf\n",
    "import numpy as np \n",
    "\n",
    "g = tf.Graph()\n",
    "# graph A\n",
    "with g.as_default():\n",
    "    a = tf.constant(5)\n",
    "    b = tf.constant(2)\n",
    "    c = tf.constant(3)\n",
    "    d = tf.multiply(a,b)\n",
    "    e = tf.add(b,c)\n",
    "    f = tf.subtract(d,e)\n",
    "    with tf.Session() as sess:\n",
    "        outs = sess.run([a,b,c,d,e,f])\n",
    "        \n",
    "print('Outputs for graph A: {}'.format(outs))\n",
    "    \n",
    "    \n",
    "# graph B\n",
    "with g.as_default():\n",
    "    a = tf.constant(5,dtype=tf.float32)\n",
    "    b = tf.constant(3,dtype=tf.float32)\n",
    "    c = tf.multiply(a,b)\n",
    "    d = tf.sin(c)\n",
    "    e = tf.divide(b,d)\n",
    "    with tf.Session() as sess:\n",
    "        outs = sess.run([a,b,c,d,e])\n",
    "        \n",
    "print('Outputs for graph B: {}'.format(outs))\n",
    "\n",
    "# graph C\n",
    "with g.as_default():\n",
    "    a = tf.constant(2,dtype=tf.int32)\n",
    "    b = tf.constant(5,dtype=tf.int32)\n",
    "    c = tf.multiply(a,b)\n",
    "    d = tf.add(a,b)\n",
    "    e = tf.floordiv(b,a)\n",
    "    f = tf.subtract(d,e)\n",
    "    with tf.Session() as sess:\n",
    "        outs = sess.run([a,b,c,d,e,f])\n",
    "        \n",
    "print('Outputs for graph C: {}'.format(outs))"
   ]
  },
  {
   "cell_type": "markdown",
   "metadata": {},
   "source": [
    "# Hands-on .2"
   ]
  },
  {
   "cell_type": "markdown",
   "metadata": {
    "collapsed": false
   },
   "source": [
    "<img src=\"./img/hands_on_2_a.png\" width=\"500\">"
   ]
  },
  {
   "cell_type": "code",
   "execution_count": 8,
   "metadata": {
    "collapsed": false
   },
   "outputs": [
    {
     "name": "stdout",
     "output_type": "stream",
     "text": [
      "Outputs for graph A:\n",
      "{}\n",
      "Node x :\n",
      "[[ 5.  3.  2.]\n",
      " [ 1.  3. -5.]\n",
      " [ 0.  1. -8.]]\n",
      "Node w :\n",
      "[[ 2.]\n",
      " [-5.]\n",
      " [ 4.]]\n",
      "Node c :\n",
      "[[  3.]\n",
      " [-33.]\n",
      " [-37.]]\n",
      "Node d :\n",
      "-67.0\n",
      "Node e :\n",
      "-22.3333339691\n",
      "Node f :\n",
      "3.0\n"
     ]
    }
   ],
   "source": [
    "with g.as_default():\n",
    "    x = tf.constant([[5,3,2],[1,3,-5],[0,1,-8]],shape=[3,3],dtype=tf.float32)\n",
    "    w = tf.constant([2,-5,4],shape=[3,1],dtype=tf.float32)\n",
    "    c = tf.matmul(x,w)\n",
    "    d = tf.reduce_sum(c)\n",
    "    e = tf.reduce_mean(c)\n",
    "    f = tf.reduce_max(c)\n",
    "    with tf.Session() as sess:\n",
    "        outs = sess.run([x,w,c,d,e,f])\n",
    "\n",
    "print('Outputs for graph A:\\n{}')\n",
    "for n,out in zip(['x','w','c','d','e','f'],outs):        \n",
    "    print('Node {} :\\n{}'.format(n,out))\n"
   ]
  },
  {
   "cell_type": "markdown",
   "metadata": {
    "collapsed": true
   },
   "source": [
    "# Hands-on .3\n",
    "\n",
    "# Linear Regression\n",
    "\n",
    "## $$f(x_i) = w^Tx_i +b$$\n",
    "## $$y_i = f(x_i) + \\epsilon_i$$\n",
    "\n",
    "# Boston housing dataset\n",
    "\n",
    "The Boston Housing dataset is a relatively small dataset (506 samples), containing information concerning housing in the area of Boston Massachusetts. There are 13 predictors and the target variable is the median value of owner-occupied homes in $1000's "
   ]
  },
  {
   "cell_type": "code",
   "execution_count": 3,
   "metadata": {
    "collapsed": true
   },
   "outputs": [],
   "source": [
    "import tensorflow as tf \n",
    "from sklearn import datasets, metrics, preprocessing\n",
    "boston = datasets.load_boston()\n",
    "x_data = preprocessing.StandardScaler().fit_transform(boston.data)\n",
    "y_data = boston.target\n",
    "y_data = y_data.reshape(y_data.shape + (1,))"
   ]
  },
  {
   "cell_type": "code",
   "execution_count": 4,
   "metadata": {
    "collapsed": false
   },
   "outputs": [
    {
     "name": "stdout",
     "output_type": "stream",
     "text": [
      "MSE = 21.900384903\n"
     ]
    }
   ],
   "source": [
    "g = tf.Graph()\n",
    "with g.as_default():\n",
    "    x = tf.placeholder('float32',shape=None)\n",
    "    y_true = tf.placeholder('float32',shape=None)\n",
    "\n",
    "    with tf.name_scope('inference') as scope:\n",
    "        w = tf.Variable(tf.truncated_normal([x_data.shape[1],1]),dtype='float32',name='weights')\n",
    "        b = tf.Variable(tf.truncated_normal([1,1]),dtype='float32',name='bias')\n",
    "        y_pred = tf.matmul(x,w) + b\n",
    "\n",
    "    with tf.name_scope('loss') as scope:\n",
    "        loss = tf.reduce_mean(tf.square(y_true-y_pred))\n",
    "\n",
    "    with tf.name_scope('train') as scope:\n",
    "        learning_rate = 0.1\n",
    "        optimizer = tf.train.GradientDescentOptimizer(learning_rate)  \n",
    "        train = optimizer.minimize(loss)\n",
    "\n",
    "    init = tf.global_variables_initializer() \n",
    "\n",
    "    with tf.Session() as sess:\n",
    "        sess.run(init)      \n",
    "        for step in range(200):\n",
    "            _,MSE = sess.run([train,loss],{x: x_data, \n",
    "                                           y_true: y_data})\n",
    "print \"MSE = {}\".format(MSE)"
   ]
  }
 ],
 "metadata": {
  "kernelspec": {
   "display_name": "tf_1_0",
   "language": "python",
   "name": "tf_1_0"
  },
  "language_info": {
   "codemirror_mode": {
    "name": "ipython",
    "version": 2
   },
   "file_extension": ".py",
   "mimetype": "text/x-python",
   "name": "python",
   "nbconvert_exporter": "python",
   "pygments_lexer": "ipython2",
   "version": "2.7.12"
  }
 },
 "nbformat": 4,
 "nbformat_minor": 1
}
