{
 "cells": [
  {
   "cell_type": "markdown",
   "metadata": {},
   "source": [
    "<img src=\"./img/oscon.png\" width=\"400\">"
   ]
  },
  {
   "cell_type": "markdown",
   "metadata": {},
   "source": [
    "# Abstraction layers "
   ]
  },
  {
   "cell_type": "markdown",
   "metadata": {},
   "source": [
    "# contrib.learn"
   ]
  },
  {
   "cell_type": "code",
   "execution_count": 1,
   "metadata": {
    "collapsed": false
   },
   "outputs": [],
   "source": [
    "import tensorflow as tf\n",
    "import matplotlib.pyplot as plt"
   ]
  },
  {
   "cell_type": "code",
   "execution_count": 2,
   "metadata": {
    "collapsed": false
   },
   "outputs": [
    {
     "data": {
      "text/plain": [
       "0"
      ]
     },
     "execution_count": 2,
     "metadata": {},
     "output_type": "execute_result"
    }
   ],
   "source": [
    "sess = tf.Session(config=tf.ConfigProto(log_device_placement=True))\n",
    "sess.run(tf.constant(0))"
   ]
  },
  {
   "cell_type": "code",
   "execution_count": 3,
   "metadata": {
    "collapsed": false
   },
   "outputs": [
    {
     "data": {
      "text/plain": [
       "['/gpu:0']"
      ]
     },
     "execution_count": 3,
     "metadata": {},
     "output_type": "execute_result"
    }
   ],
   "source": [
    "from tensorflow.python.client import device_lib\n",
    "\n",
    "def get_available_gpus():\n",
    "    local_device_protos = device_lib.list_local_devices()\n",
    "    return [x.name for x in local_device_protos if x.device_type == 'GPU']\n",
    "\n",
    "get_available_gpus()"
   ]
  },
  {
   "cell_type": "markdown",
   "metadata": {},
   "source": [
    "# Estimators\n",
    "### 1. Instantiate the Estimator class\n",
    "~~~python \n",
    "model = learn.Estimator()\n",
    "~~~\n",
    "### 2.  Fit it using training data\n",
    "~~~python \n",
    "model.fit()\n",
    "~~~\n",
    "### 3. Evaluate how good is the fit\n",
    "~~~python \n",
    "model.evaluate()\n",
    "~~~\n",
    "### 4. Predict outcomes on new data\n",
    "~~~python \n",
    "model.predict()\n",
    "~~~\n",
    "\n"
   ]
  },
  {
   "cell_type": "markdown",
   "metadata": {},
   "source": [
    "# Deep Neural Network Estimator"
   ]
  },
  {
   "cell_type": "code",
   "execution_count": 4,
   "metadata": {
    "collapsed": false
   },
   "outputs": [
    {
     "name": "stdout",
     "output_type": "stream",
     "text": [
      "Extracting /tmp/data\\train-images-idx3-ubyte.gz\n",
      "Extracting /tmp/data\\train-labels-idx1-ubyte.gz\n",
      "Extracting /tmp/data\\t10k-images-idx3-ubyte.gz\n",
      "Extracting /tmp/data\\t10k-labels-idx1-ubyte.gz\n"
     ]
    },
    {
     "name": "stderr",
     "output_type": "stream",
     "text": [
      "C:\\p3\\lib\\site-packages\\tensorflow\\python\\util\\deprecation.py:248: FutureWarning: comparison to `None` will result in an elementwise object comparison in the future.\n",
      "  equality = a == b\n"
     ]
    },
    {
     "data": {
      "text/plain": [
       "DNNClassifier(params={'head': <tensorflow.contrib.learn.python.learn.estimators.head._MultiClassHead object at 0x00000298DC541630>, 'dropout': None, 'activation_fn': <function relu at 0x00000298D99C9268>, 'embedding_lr_multipliers': None, 'hidden_units': [50], 'input_layer_min_slice_size': None, 'feature_columns': (_RealValuedColumn(column_name='', dimension=1, default_value=None, dtype=tf.float32, normalizer=None),), 'optimizer': <tensorflow.python.training.proximal_adagrad.ProximalAdagradOptimizer object at 0x00000298DBF858D0>, 'gradient_clip_norm': None})"
      ]
     },
     "execution_count": 4,
     "metadata": {},
     "output_type": "execute_result"
    }
   ],
   "source": [
    "from tensorflow.examples.tutorials.mnist import input_data\n",
    "from tensorflow.contrib import layers\n",
    "learn = tf.contrib.learn\n",
    "import numpy as np\n",
    "\n",
    "tf.logging.set_verbosity(tf.logging.ERROR)\n",
    "\n",
    "DATA_DIR = '/tmp/data'\n",
    "data = input_data.read_data_sets(DATA_DIR, one_hot=False)\n",
    "x_data, y_data = data.train.images,data.train.labels.astype(np.int32)\n",
    "x_test, y_test = data.test.images,data.test.labels.astype(np.int32)\n",
    "feature_columns = [tf.contrib.layers.real_valued_column(\"\")]\n",
    "\n",
    "# Or estimator using the ProximalAdagradOptimizer optimizer with\n",
    "# regularization.\n",
    "estimator = learn.DNNClassifier(\n",
    "    feature_columns=feature_columns,\n",
    "    hidden_units=[50],\n",
    "    n_classes=10,\n",
    "    optimizer=tf.train.ProximalAdagradOptimizer(\n",
    "      learning_rate=0.2,\n",
    "    ))\n",
    "\n",
    "# estimator.fit(input_fn=lambda:input_fn(x_data,y_data), steps=2)\n",
    "estimator.fit(x=x_data,y=y_data, steps=500,batch_size=128)\n",
    "\n"
   ]
  },
  {
   "cell_type": "code",
   "execution_count": 5,
   "metadata": {
    "collapsed": false
   },
   "outputs": [
    {
     "name": "stderr",
     "output_type": "stream",
     "text": [
      "C:\\p3\\lib\\site-packages\\tensorflow\\python\\util\\deprecation.py:248: FutureWarning: comparison to `None` will result in an elementwise object comparison in the future.\n",
      "  equality = a == b\n"
     ]
    },
    {
     "name": "stdout",
     "output_type": "stream",
     "text": [
      "0.9549\n"
     ]
    }
   ],
   "source": [
    "ev = estimator.evaluate(x=x_test,y=y_test, steps=1)[\"accuracy\"]\n",
    "print(ev)"
   ]
  },
  {
   "cell_type": "markdown",
   "metadata": {},
   "source": [
    "### Logistic Regression from day 1"
   ]
  },
  {
   "cell_type": "markdown",
   "metadata": {},
   "source": [
    "### Using a custom Estimator"
   ]
  },
  {
   "cell_type": "code",
   "execution_count": 337,
   "metadata": {
    "collapsed": true
   },
   "outputs": [],
   "source": [
    "learn = tf.contrib.learn\n",
    "\n",
    "\n",
    "# Input builders\n",
    "def input_fn(x_data,y_data):\n",
    "        \n",
    "    feature_cols = {}\n",
    "    feature_cols['x_data'] = tf.constant(x_data,dtype=tf.float32)    \n",
    "    labels = tf.constant(y_data,dtype=tf.float32)\n",
    "    \n",
    "    x = tf.contrib.layers.real_valued_column('x_data')\n",
    "    \n",
    "    feature_cols = tf.contrib.layers.input_from_feature_columns(\n",
    "    columns_to_tensors=feature_cols, feature_columns=[x])\n",
    "    \n",
    "    return feature_cols, labels\n",
    "\n",
    "def feature_engineering_fn(feature_cols, labels):\n",
    "    \"Do some prepreocessing here\"\n",
    "    return feature_cols, labels\n",
    "    \n",
    "\n",
    "def my_model_fn(x_data,y_data,mode,params):\n",
    "\n",
    "    w = tf.Variable([[0,0,0]],dtype=tf.float32,name='w')\n",
    "    b = tf.Variable(0,dtype=tf.float32,name='b')\n",
    "    predictions = tf.sigmoid(tf.matmul(w,tf.transpose(x_data)) + b)\n",
    "    \n",
    "    loss_tmp = - y_data * tf.log(predictions) - (1.0 - y_data) * tf.log(1.0 - predictions)\n",
    "    loss = tf.reduce_mean(loss_tmp)\n",
    "    \n",
    "    train_op = tf.contrib.layers.optimize_loss(\n",
    "        loss=loss,\n",
    "        global_step=tf.contrib.framework.get_global_step(),\n",
    "        learning_rate=params[\"learning_rate\"],\n",
    "        optimizer=\"Adagrad\")\n",
    "    \n",
    "    return predictions, loss, train_op\n"
   ]
  },
  {
   "cell_type": "code",
   "execution_count": 339,
   "metadata": {
    "collapsed": false
   },
   "outputs": [
    {
     "name": "stdout",
     "output_type": "stream",
     "text": [
      "INFO:tensorflow:Using config: {'save_summary_steps': 100, '_num_ps_replicas': 0, '_task_type': None, '_environment': 'local', '_is_chief': True, 'save_checkpoints_secs': 1, '_cluster_spec': <tensorflow.python.training.server_lib.ClusterSpec object at 0x7f53bf525e10>, 'tf_config': gpu_options {\n",
      "  per_process_gpu_memory_fraction: 1\n",
      "}\n",
      ", '_task_id': 0, 'tf_random_seed': None, 'keep_checkpoint_every_n_hours': 10000, '_evaluation_master': '', 'save_checkpoints_steps': None, '_master': '', 'keep_checkpoint_max': 5}\n",
      "INFO:tensorflow:Create CheckpointSaverHook.\n",
      "INFO:tensorflow:loss = 0.693147, step = 1\n",
      "INFO:tensorflow:Saving checkpoints for 1 into tmp/model.ckpt.\n",
      "WARNING:tensorflow:*******************************************************\n",
      "WARNING:tensorflow:TensorFlow's V1 checkpoint format has been deprecated.\n",
      "WARNING:tensorflow:Consider switching to the more efficient V2 format:\n",
      "WARNING:tensorflow:   `tf.train.Saver(write_version=tf.train.SaverDef.V2)`\n",
      "WARNING:tensorflow:now on by default.\n",
      "WARNING:tensorflow:*******************************************************\n",
      "INFO:tensorflow:Saving checkpoints for 50 into tmp/model.ckpt.\n",
      "WARNING:tensorflow:*******************************************************\n",
      "WARNING:tensorflow:TensorFlow's V1 checkpoint format has been deprecated.\n",
      "WARNING:tensorflow:Consider switching to the more efficient V2 format:\n",
      "WARNING:tensorflow:   `tf.train.Saver(write_version=tf.train.SaverDef.V2)`\n",
      "WARNING:tensorflow:now on by default.\n",
      "WARNING:tensorflow:*******************************************************\n",
      "INFO:tensorflow:Loss for final step: 0.648008.\n",
      "['OptimizeLoss/b/Adagrad', 'OptimizeLoss/learning_rate', 'OptimizeLoss/w/Adagrad', 'b', 'global_step', 'w']\n",
      "Estimation for w: [[ 0.30287072  0.52123469  0.08164342]]\n",
      "Estimation for b: -0.203406557441\n"
     ]
    }
   ],
   "source": [
    "model_params = {\"learning_rate\": 0.5}\n",
    "est = learn.Estimator(model_fn=my_model_fn,\\\n",
    "                      feature_engineering_fn=feature_engineering_fn,\\\n",
    "                      params=model_params,\\\n",
    "                      model_dir='tmp/',\\\n",
    "                      config=tf.contrib.learn.RunConfig(save_checkpoints_secs=1))\n",
    "est.fit(input_fn=lambda:input_fn(x_data,y_data),steps=50)\n",
    "\n",
    "print est.get_variable_names()\n",
    "\n",
    "w_w = est.get_variable_value('w')\n",
    "print 'Estimation for w: {}'.format(w_w)\n",
    "\n",
    "b = est.get_variable_value('b')\n",
    "print 'Estimation for b: {}'.format(b)\n"
   ]
  },
  {
   "cell_type": "code",
   "execution_count": 561,
   "metadata": {
    "collapsed": false
   },
   "outputs": [],
   "source": [
    "import numpy as np\n",
    "N = 10000\n",
    "\n",
    "# generate data\n",
    "\n",
    "def sigmoid(x):\n",
    "    return 1 / (1 + np.exp(-x))\n",
    "\n",
    "# === Create data and simulate results =====\n",
    "x_data = np.random.randn(N,3)\n",
    "w_real = [0.3,0.5,0.1]\n",
    "bias = [-1.2,0,1.2]\n",
    "\n",
    "category_id = np.random.randint(0,3,N)\n",
    "\n",
    "\n",
    "noise = np.random.randn(1,N)*0.1\n",
    "wx = np.matmul(w_real,x_data.T) \n",
    "wxb = np.array([wx[i]+bias[b]for i,b in enumerate(category_id)])\n",
    "\n",
    "category_names = ['computers','food','clothes']\n",
    "category = np.array([category_names[s] for s in category_id])\n",
    "\n",
    "y_data_pre_noise = sigmoid(wxb)\n",
    "y_data = np.random.binomial(1,y_data_pre_noise)"
   ]
  },
  {
   "cell_type": "code",
   "execution_count": 562,
   "metadata": {
    "collapsed": false
   },
   "outputs": [
    {
     "data": {
      "image/png": "[encoded data removed]",
      "text/plain": [
       "<matplotlib.figure.Figure at 0x7f536c619b10>"
      ]
     },
     "metadata": {},
     "output_type": "display_data"
    }
   ],
   "source": [
    "# plot\n",
    "\n",
    "f,axarr = plt.subplots(2,2,figsize=[7,5])\n",
    "ax = axarr[0,0]\n",
    "for cat in category_names:\n",
    "    ax.plot(wx[category==cat],y_data_pre_noise[category==cat],'o',ms=3,alpha=0.005)\n",
    "ax.plot([0,0],[0,1],'k--')\n",
    "\n",
    "ax.set_xlim([-3,3])\n",
    "ax.set_title('Y pre-noise',fontsize=20)\n",
    "ax.set_ylabel('Y Values',fontsize=15)\n",
    "ax.set_xlabel('wx',fontsize=15)\n",
    "\n",
    "ax = axarr[0,1]\n",
    "for cat in category_names:\n",
    "    ax.hist(y_data_pre_noise[category==cat],50,alpha=0.4)\n",
    "ax.set_title('Y pre-noise',fontsize=20)\n",
    "ax.set_xlim([0,1])\n",
    "ax.set_ylabel('Frequency',fontsize=15)\n",
    "ax.set_xlabel('Y Values',fontsize=15)\n",
    "\n",
    "ax = axarr[1,0]\n",
    "for cat in category_names:\n",
    "    ax.plot(wx[category==cat],y_data[category==cat],'o',ms=9,alpha=0.003)\n",
    "ax.plot([0,0],[0,1],'k--')\n",
    "ax.set_xlim([-3,3])\n",
    "ax.set_ylim([-0.2,1.2])\n",
    "ax.set_title('Y post-noise',fontsize=20)\n",
    "ax.set_ylabel('Y Values',fontsize=15)\n",
    "ax.set_xlabel('wx',fontsize=15)\n",
    "\n",
    "ax = axarr[1,1]\n",
    "for cat in category_names:\n",
    "    ax.hist(y_data[category==cat],30,alpha=0.4)\n",
    "ax.set_title('Y post-noise',fontsize=20)\n",
    "ax.set_xlim([-0.2,1.2])\n",
    "ax.set_ylabel('Frequency',fontsize=15)\n",
    "ax.set_xlabel('Y Values',fontsize=15)\n",
    "\n",
    "\n",
    "plt.tight_layout()\n",
    "plt.show()"
   ]
  },
  {
   "cell_type": "code",
   "execution_count": 563,
   "metadata": {
    "collapsed": false
   },
   "outputs": [
    {
     "data": {
      "text/html": [
       "<div>\n",
       "<table border=\"1\" class=\"dataframe\">\n",
       "  <thead>\n",
       "    <tr style=\"text-align: right;\">\n",
       "      <th></th>\n",
       "      <th>x1</th>\n",
       "      <th>x2</th>\n",
       "      <th>x3</th>\n",
       "      <th>bias</th>\n",
       "      <th>target</th>\n",
       "    </tr>\n",
       "  </thead>\n",
       "  <tbody>\n",
       "    <tr>\n",
       "      <th>0</th>\n",
       "      <td>0.450336</td>\n",
       "      <td>-0.122358</td>\n",
       "      <td>-0.611658</td>\n",
       "      <td>computers</td>\n",
       "      <td>0</td>\n",
       "    </tr>\n",
       "    <tr>\n",
       "      <th>1</th>\n",
       "      <td>0.795815</td>\n",
       "      <td>0.950255</td>\n",
       "      <td>0.385978</td>\n",
       "      <td>clothes</td>\n",
       "      <td>1</td>\n",
       "    </tr>\n",
       "    <tr>\n",
       "      <th>2</th>\n",
       "      <td>0.647850</td>\n",
       "      <td>-1.561874</td>\n",
       "      <td>1.102416</td>\n",
       "      <td>clothes</td>\n",
       "      <td>1</td>\n",
       "    </tr>\n",
       "    <tr>\n",
       "      <th>3</th>\n",
       "      <td>-0.494595</td>\n",
       "      <td>1.088808</td>\n",
       "      <td>0.242360</td>\n",
       "      <td>clothes</td>\n",
       "      <td>0</td>\n",
       "    </tr>\n",
       "    <tr>\n",
       "      <th>4</th>\n",
       "      <td>-0.713762</td>\n",
       "      <td>-0.083039</td>\n",
       "      <td>-0.414681</td>\n",
       "      <td>food</td>\n",
       "      <td>0</td>\n",
       "    </tr>\n",
       "    <tr>\n",
       "      <th>5</th>\n",
       "      <td>0.479643</td>\n",
       "      <td>-0.567802</td>\n",
       "      <td>1.025886</td>\n",
       "      <td>food</td>\n",
       "      <td>1</td>\n",
       "    </tr>\n",
       "    <tr>\n",
       "      <th>6</th>\n",
       "      <td>-0.865113</td>\n",
       "      <td>-1.050168</td>\n",
       "      <td>0.501369</td>\n",
       "      <td>food</td>\n",
       "      <td>0</td>\n",
       "    </tr>\n",
       "    <tr>\n",
       "      <th>7</th>\n",
       "      <td>-1.095082</td>\n",
       "      <td>0.649803</td>\n",
       "      <td>-0.530370</td>\n",
       "      <td>computers</td>\n",
       "      <td>0</td>\n",
       "    </tr>\n",
       "    <tr>\n",
       "      <th>8</th>\n",
       "      <td>-0.978045</td>\n",
       "      <td>1.526915</td>\n",
       "      <td>0.462523</td>\n",
       "      <td>computers</td>\n",
       "      <td>1</td>\n",
       "    </tr>\n",
       "  </tbody>\n",
       "</table>\n",
       "</div>"
      ],
      "text/plain": [
       "         x1        x2        x3       bias  target\n",
       "0  0.450336 -0.122358 -0.611658  computers       0\n",
       "1  0.795815  0.950255  0.385978    clothes       1\n",
       "2  0.647850 -1.561874  1.102416    clothes       1\n",
       "3 -0.494595  1.088808  0.242360    clothes       0\n",
       "4 -0.713762 -0.083039 -0.414681       food       0\n",
       "5  0.479643 -0.567802  1.025886       food       1\n",
       "6 -0.865113 -1.050168  0.501369       food       0\n",
       "7 -1.095082  0.649803 -0.530370  computers       0\n",
       "8 -0.978045  1.526915  0.462523  computers       1"
      ]
     },
     "execution_count": 563,
     "metadata": {},
     "output_type": "execute_result"
    }
   ],
   "source": [
    "import pandas as pd\n",
    "df = pd.DataFrame({'bias':category,'x1':x_data[:,0],'x2':x_data[:,1],'x3':x_data[:,2],'target':y_data})\n",
    "cols = df.columns.tolist()\n",
    "cols = [cols[2],cols[3],cols[4],cols[0],cols[1]]\n",
    "df = df[cols]\n",
    "df[:9]"
   ]
  },
  {
   "cell_type": "code",
   "execution_count": 596,
   "metadata": {
    "collapsed": false
   },
   "outputs": [],
   "source": [
    "learn = tf.contrib.learn\n",
    "\n",
    "\n",
    "# Input builders\n",
    "def input_fn(x_data,category,y_data):\n",
    "        \n",
    "    feature_cols = {}\n",
    "    feature_cols['x_data'] = tf.constant(x_data,dtype=tf.float32)    \n",
    "    x = tf.contrib.layers.real_valued_column('x_data')\n",
    "\n",
    "\n",
    "    labels = tf.constant(y_data,dtype=tf.float32)\n",
    "    \n",
    "    \n",
    "    feature_cols['category'] = tf.SparseTensor(\n",
    "    indices=[[i, 0] for i in range(category.size)],\n",
    "    values=category, shape=[category.size, 1])\n",
    "    \n",
    "    # see what's the order\n",
    "    print list(feature_cols)\n",
    "    \n",
    "    cat=tf.contrib.layers.sparse_column_with_keys(\n",
    "    column_name='category', keys=category_names)\n",
    "    \n",
    "#     cat = tf.contrib.layers.embedding_column(cat,3)\n",
    "    cat = tf.contrib.layers.one_hot_column(cat)\n",
    "    \n",
    "    feature_cols = tf.contrib.layers.input_from_feature_columns(\n",
    "    columns_to_tensors=feature_cols, feature_columns=[x,cat])\n",
    "    \n",
    "    return feature_cols, labels\n",
    "\n",
    "def feature_engineering_fn(feature_cols, labels):\n",
    "    \"Do some prepreocessing here\"\n",
    "    return feature_cols, labels\n",
    "    \n",
    "\n",
    "def my_model_fn(feature_cols,y_data,mode,params):\n",
    "    print feature_cols\n",
    "    print feature_cols[:,3:]\n",
    "\n",
    "    w_x = tf.Variable([[0,0,0]],dtype=tf.float32,name='w_x')\n",
    "    w_cat = tf.Variable([[0,0,0]],dtype=tf.float32,name='w_cat')\n",
    "    b = tf.Variable(0,dtype=tf.float32,name='b')\n",
    "\n",
    "#     b = tf.Variable(0,dtype=tf.float32,name='b')\n",
    "    predictions = tf.sigmoid(tf.matmul(w_cat,tf.transpose(feature_cols[:,:3]))+\\\n",
    "                             tf.matmul(w_x,tf.transpose(feature_cols[:,3:])))\n",
    "    \n",
    "    loss_tmp = - y_data * tf.log(predictions) - (1.0 - y_data) * tf.log(1.0 - predictions)\n",
    "    loss = tf.reduce_mean(loss_tmp)\n",
    "    \n",
    "    train_op = tf.contrib.layers.optimize_loss(\n",
    "        loss=loss,\n",
    "        global_step=tf.contrib.framework.get_global_step(),\n",
    "        learning_rate=params[\"learning_rate\"],\n",
    "        optimizer=\"Adagrad\")\n",
    "    \n",
    "    return predictions, loss, train_op\n"
   ]
  },
  {
   "cell_type": "code",
   "execution_count": 597,
   "metadata": {
    "collapsed": false
   },
   "outputs": [
    {
     "name": "stdout",
     "output_type": "stream",
     "text": [
      "['category', 'x_data']\n",
      "Tensor(\"input_from_feature_columns/concat:0\", shape=(10000, 6), dtype=float32)\n",
      "Tensor(\"strided_slice:0\", shape=(10000, 3), dtype=float32)\n",
      "['OptimizeLoss/learning_rate', 'OptimizeLoss/w_cat/Adagrad', 'OptimizeLoss/w_x/Adagrad', 'b', 'global_step', 'w_cat', 'w_x']\n",
      "Estimation for w_x: [[ 0.29628426  0.49829358  0.07691273]]\n",
      "Estimation for w_Cat: [[-1.2332648   0.04924452  1.18695343]]\n"
     ]
    }
   ],
   "source": [
    "tf.logging.set_verbosity(tf.logging.ERROR)\n",
    "\n",
    "model_params = {\"learning_rate\": 0.5}\n",
    "est = learn.Estimator(model_fn=my_model_fn,\\\n",
    "                      feature_engineering_fn=feature_engineering_fn,\\\n",
    "                      params=model_params,\\\n",
    "                      config=tf.contrib.learn.RunConfig(save_checkpoints_secs=1))\n",
    "#                       model_dir='tmp/',\\\n",
    "\n",
    "est.fit(input_fn=lambda:input_fn(x_data,category,y_data),steps=100)\n",
    "\n",
    "print est.get_variable_names()\n",
    "\n",
    "w_x= est.get_variable_value('w_x')\n",
    "print 'Estimation for w_x: {}'.format(w_x)\n",
    "\n",
    "w_cat = est.get_variable_value('w_cat')\n",
    "print 'Estimation for w_Cat: {}'.format(w_cat)\n"
   ]
  },
  {
   "cell_type": "code",
   "execution_count": 636,
   "metadata": {
    "collapsed": false
   },
   "outputs": [
    {
     "data": {
      "image/png": "[encoded data removed]",
      "text/plain": [
       "<matplotlib.figure.Figure at 0x7f536dd9afd0>"
      ]
     },
     "metadata": {},
     "output_type": "display_data"
    }
   ],
   "source": [
    "f,axarr = plt.subplots(1,figsize=[5,4])\n",
    "ax = axarr\n",
    "ax.plot([0.3,0.5,0.1],w_x[0],'d',ms=10)\n",
    "ax.plot([-1.2,0,1.2],w_cat[0],'d',ms=10)\n",
    "ax.plot([-1.4,1.4],[-1.4,1.4],'k--')\n",
    "ax.axis([-1.4,1.4,-1.4,1.4])\n",
    "ax.set_ylabel(r'$\\hat{w}$',fontsize=30)\n",
    "ax.set_xlabel(r'$w$',fontsize=30)\n",
    "ax.legend(['w_x','w_cat'],loc=2,numpoints=1)\n",
    "plt.tight_layout()\n",
    "plt.show()"
   ]
  },
  {
   "cell_type": "code",
   "execution_count": null,
   "metadata": {
    "collapsed": true
   },
   "outputs": [],
   "source": []
  },
  {
   "cell_type": "code",
   "execution_count": null,
   "metadata": {
    "collapsed": true
   },
   "outputs": [],
   "source": []
  },
  {
   "cell_type": "markdown",
   "metadata": {},
   "source": [
    "## Keras\n",
    "Keras is one of the most popular and powerful TensorFlow extension libraries. In 2017 Keras gained official Google support, and will be moved into tf.contrib in the near future.\n",
    "\n",
    "Keras has two main types of models to choose —Sequential and functional. The sequential type is designed for simple architectures, where we just want to stack layers in a linear fashion. The functional API can support more general models with a diverse layer structure such as multi-output models or a directed acyclic graph. "
   ]
  },
  {
   "cell_type": "markdown",
   "metadata": {
    "collapsed": true
   },
   "source": [
    "# Installation\n",
    "\n",
    "~~~python \n",
    "pip install keras\n",
    "~~~\n",
    "\n",
    "Or download from:\n",
    "[Git page](https://github.com/fchollet/keras)\n",
    "\n",
    "And install using:\n",
    "\n",
    "~~~python \n",
    "python setup.py install\n",
    "~~~\n"
   ]
  },
  {
   "cell_type": "markdown",
   "metadata": {},
   "source": [
    "# Sequential model\n",
    "\n"
   ]
  },
  {
   "cell_type": "markdown",
   "metadata": {},
   "source": [
    "### Dense layer\n",
    "Dense\" is a fully connected layer where the first argument denotes the number of output units and the input shape is the shape of the input (in this example the weight matrix would be of size 784x64). \n",
    "\n",
    "\n",
    "\n",
    "~~~python \n",
    "from keras.models import Sequential\n",
    "from keras.layers import Dense, Activation \n",
    "\n",
    "model = Sequential()\n",
    "\n",
    "model.add(Dense(units=64, input_dim=784))\n",
    "model.add(Activation('softmax')~~~\n"
   ]
  },
  {
   "cell_type": "markdown",
   "metadata": {},
   "source": [
    "Learning configurations are using \n",
    "~~~python \n",
    ".complie() \n",
    "~~~\n",
    "It receives three arguments: the loss function, optimizer and another metric function that is used to judge the performance of your model.\n",
    "\n",
    "~~~python \n",
    "model.compile(loss='categorical_crossentropy',\n",
    "              optimizer='sgd',\n",
    "              metrics=['accuracy'])~~~"
   ]
  },
  {
   "cell_type": "markdown",
   "metadata": {},
   "source": [
    "set the optimizer\n",
    "\n",
    "~~~python \n",
    "optimizer=keras.optimizers.SGD(lr=0.02, momentum=0.8, nesterov=True))\n",
    "~~~"
   ]
  },
  {
   "cell_type": "markdown",
   "metadata": {},
   "source": [
    "And finally we feed .fit() the data and set the number of epochs and batch_size. As with the previous libraries, we can now easily evaluate how it does and perform prediction with new test data.\n",
    "\n",
    "Note that a \"callbacks\" argument was added to the fit method. Callbacks are functions that are a applied during the training procedure, and we can use them to get a view on statistics and make dynamic training decisions by passing a list of them to the ,fit() method.\n",
    "\n",
    "In this example we plug in two callbacks: (1) TensorBoard, specifying its output folder, and (2) early stopping, where we specify the minimum changed to be monitored (min_delta), the number of no-improvement epochs to stop after (patience) and the direction of wanted change (mode), set here to be inferred automatically.\n",
    "\n",
    "~~~python \n",
    "from keras.callbacks import TensorBoard,EarlyStopping,ReduceLROnPlateau\n",
    "\n",
    "early_stop = EarlyStopping(monitor='val_loss', min_delta=0, patience=10, verbose=0, mode='auto')\n",
    "\n",
    "model.fit(x_train, y_train, epochs=10, batch_size=64,\n",
    "          callbacks=[TensorBoard(log_dir='/models/autoencoder',)\n",
    "          early_stop])\n",
    "\n",
    "loss_and_metrics = model.evaluate(x_test, y_test, batch_size=64)\n",
    "classes = model.predict(x_test, batch_size=64)\n",
    "~~~\n",
    "\n"
   ]
  },
  {
   "cell_type": "markdown",
   "metadata": {},
   "source": [
    "# Functional model\n",
    "The main difference here is that we first define our input and output, and only then instantiate the model"
   ]
  },
  {
   "cell_type": "markdown",
   "metadata": {},
   "source": [
    "Create an input Tensor according to its shape\n",
    "\n",
    "~~~python \n",
    "inputs = Input(shape=(784,))\n",
    "~~~"
   ]
  },
  {
   "cell_type": "markdown",
   "metadata": {},
   "source": [
    "Define model\n",
    "\n",
    "~~~python \n",
    "x = Dense(64, activation='relu')(inputs)\n",
    "x = Dense(32, activation='relu')(x)\n",
    "outputs = Dense(10, activation='softmax')(x)\n",
    "~~~"
   ]
  },
  {
   "cell_type": "markdown",
   "metadata": {},
   "source": [
    "And now instantiate the model, passing both inputs and outputs to \"Model\".\n",
    "\n",
    "~~~python \n",
    "model = Model(inputs=inputs, oprintutputs=outputs)\n",
    "\n",
    "from keras.callbacks import TensorBoard,EarlyStopping,ReduceLROnPlateau\n",
    "\n",
    "early_stop = EarlyStopping(monitor='val_loss', min_delta=0, patience=10, verbose=0, mode='auto')\n",
    "\n",
    "model.fit(x_train, y_train, epochs=10, batch_size=64,\n",
    "          callbacks=[TensorBoard(log_dir='/models/autoencoder',)\n",
    "          early_stop])\n",
    "\n",
    "loss_and_metrics = model.evaluate(x_test, y_test, batch_size=64)\n",
    "classes = model.predict(x_test, batch_size=64)\n",
    "~~~"
   ]
  },
  {
   "cell_type": "code",
   "execution_count": null,
   "metadata": {
    "collapsed": true
   },
   "outputs": [],
   "source": []
  },
  {
   "cell_type": "code",
   "execution_count": null,
   "metadata": {
    "collapsed": true
   },
   "outputs": [],
   "source": []
  },
  {
   "cell_type": "code",
   "execution_count": 11,
   "metadata": {
    "collapsed": false
   },
   "outputs": [
    {
     "name": "stdout",
     "output_type": "stream",
     "text": [
      "_________________________________________________________________\n",
      "Layer (type)                 Output Shape              Param #   \n",
      "=================================================================\n",
      "lstm_19 (LSTM)               (None, 20, 64)            49664     \n",
      "_________________________________________________________________\n",
      "lstm_20 (LSTM)               (None, 20, 64)            33024     \n",
      "_________________________________________________________________\n",
      "dropout_9 (Dropout)          (None, 20, 64)            0         \n",
      "_________________________________________________________________\n",
      "lstm_21 (LSTM)               (None, 20, 64)            33024     \n",
      "_________________________________________________________________\n",
      "dropout_10 (Dropout)         (None, 20, 64)            0         \n",
      "_________________________________________________________________\n",
      "dense_6 (Dense)              (None, 20, 129)           8385      \n",
      "_________________________________________________________________\n",
      "activation_6 (Activation)    (None, 20, 129)           0         \n",
      "=================================================================\n",
      "Total params: 124,097.0\n",
      "Trainable params: 124,097.0\n",
      "Non-trainable params: 0.0\n",
      "_________________________________________________________________\n",
      "None\n"
     ]
    }
   ],
   "source": [
    "from keras.layers import LSTM, Dropout\n",
    "from keras.optimizers import SGD, RMSprop, Adagrad, Adadelta, Adam, Adamax, Nadam\n",
    "\n",
    "\n",
    "model = Sequential()\n",
    "\n",
    "rnn_size = 64 # The number of neurons in hidden layers.\n",
    "\n",
    "window_size = 20 # The number of previous notes (and rests) to use as input to the network \n",
    "#at each step (measured in 16th notes). It is helpful to think of this as \n",
    "#the fixed width of a piano roll rather than individual events.\n",
    "\n",
    "OUTPUT_SIZE = 129 # 0-127 notes + 1 for rests\n",
    "\n",
    "dropout = 0.2 # The normalized percentage (0-1) of weights to randomly turn \"off\" \n",
    "# in each layer during a training step. This is a regularization technique called which helps \n",
    "# prevent model overfitting. Recommended values are between 0.2 and 0.5, or 20% and 50%.\n",
    "\n",
    "\n",
    "learning_rate = 0.5 \n",
    "\n",
    "grad_clip = 5.0 # Clip backpropagated gradients to this value.\n",
    "\n",
    "\n",
    "kwargs = dict() \n",
    "kwargs['units'] = rnn_size\n",
    "kwargs['input_shape'] = (window_size, OUTPUT_SIZE)\n",
    "\n",
    "kwargs['return_sequences'] = True\n",
    "model.add(LSTM(**kwargs))\n",
    "\n",
    "model.add(LSTM(**kwargs))\n",
    "model.add(Dropout(dropout))\n",
    "kwargs['return_sequences'] = True\n",
    "\n",
    "    \n",
    "model.add(LSTM(**kwargs))\n",
    "model.add(Dropout(dropout))\n",
    "kwargs['return_sequences'] = False\n",
    "\n",
    "model.add(Dense(OUTPUT_SIZE))\n",
    "model.add(Activation('softmax'))    \n",
    "\n",
    "kwargs = { 'clipvalue': grad_clip }\n",
    "\n",
    "kwargs['lr'] = learning_rate\n",
    "\n",
    "optimizer = Adam(**kwargs)\n",
    "\n",
    "model.compile(loss='categorical_crossentropy', \n",
    "              optimizer=optimizer,\n",
    "              metrics=['accuracy'])\n",
    "\n",
    "print(model.summary())\n",
    "\n",
    "\n",
    "# load pitch sequences in one-hot encoding\n",
    "\n",
    "model.fit(x_train, y_train, epochs=10, batch_size=64)\n"
   ]
  },
  {
   "cell_type": "code",
   "execution_count": null,
   "metadata": {
    "collapsed": false
   },
   "outputs": [],
   "source": [
    "batch_size = 32 # The number of samples to pass through the network before updating weights.\n",
    "\n",
    "n_jobs = 1 #The number of CPU cores to use when loading and parsing MIDI files from --data_dir. Increasing this value can dramatically speed up training. I commonly set this value to use all cores, which for my quad-core machine is 8 (Intel CPUs often have 2 virtual cores per CPU).\n",
    "\n",
    "max_files_in_ram = 25 # Files in --data_dir are loaded into RAM in small batches, processed, and then released to avoid having to load all training files into memory at once (which may be impossible when training on hundreds of files on a machine with limited memory). This value specifies the maximum number of MIDI files to keep in RAM at any one time. Using a larger number significantly speeds up training, however it also runs the risk of using too much RAM and causing your machine to start thrashing or crash. You can find a nice balance by inspecting your system monitor (Activity Monitor on MacOS and Monitor on Ubuntu) while training and adjust accourdingly.\n",
    "\n",
    "num_epochs = 10 # The number of epochs before completing training. One epoch is equal to one full pass through all midi files\n",
    "\n",
    "\n",
    "\n",
    "\n",
    "val_split = 0.2 # use 20 percent for validation\n",
    "val_split_index = int(float(len(midi_files)) * val_split)\n",
    "\n",
    "# use generators to lazy load train/validation data, ensuring that the\n",
    "# user doesn't have to load all midi files into RAM at once\n",
    "train_generator = utils.get_data_generator(midi_files[0:val_split_index], \n",
    "                                           window_size=window_size,\n",
    "                                           batch_size=batch_size,\n",
    "                                           num_threads=n_jobs,\n",
    "                                           max_files_in_ram=max_files_in_ram)\n",
    "\n",
    "\n",
    "\n",
    "\n",
    "\n",
    "\n",
    "\n",
    "val_generator = utils.get_data_generator(midi_files[val_split_index:], \n",
    "                                         window_size=args.window_size,\n",
    "                                         batch_size=args.batch_size,\n",
    "                                         num_threads=args.n_jobs,\n",
    "                                         max_files_in_ram=args.max_files_in_ram)\n",
    "\n",
    "\n",
    "\n",
    "\n",
    "# callbacks = get_callbacks(experiment_dir)\n",
    "\n",
    "print('fitting model...')\n",
    "# this is a somewhat magic number which is the average number of length-20 windows\n",
    "# calculated from ~5K MIDI files from the Lakh MIDI Dataset.\n",
    "magic_number = 827\n",
    "\n",
    "start_time = time.time()\n",
    "model.fit_generator(train_generator,\n",
    "                    steps_per_epoch=len(midi_files) * magic_number / args.batch_size, \n",
    "                    epochs=args.num_epochs,\n",
    "                    validation_data=val_generator, \n",
    "                    validation_steps=len(midi_files) * 0.2 * magic_number / args.batch_size,\n",
    "                    verbose=1, \n",
    "                    initial_epoch=epoch)\n",
    "\n",
    "print('Finished in {:.2f} seconds'.format(time.time() - start_time))"
   ]
  },
  {
   "cell_type": "code",
   "execution_count": null,
   "metadata": {
    "collapsed": true
   },
   "outputs": [],
   "source": [
    "def get_data_generator(midi_paths, \n",
    "                       window_size=20, \n",
    "                       batch_size=32,\n",
    "                       num_threads=8,\n",
    "                       max_files_in_ram=170):\n",
    "\n",
    "    if num_threads > 1:\n",
    "    \t# load midi data\n",
    "    \tpool = ThreadPool(num_threads)\n",
    "\n",
    "    load_index = 0\n",
    "\n",
    "    while True:\n",
    "        load_files = midi_paths[load_index:load_index + max_files_in_ram]\n",
    "        # print('length of load files: {}'.format(len(load_files)))\n",
    "        load_index = (load_index + max_files_in_ram) % len(midi_paths)\n",
    "\n",
    "        # print('loading large batch: {}'.format(max_files_in_ram))\n",
    "        # print('Parsing midi files...')\n",
    "        # start_time = time.time()\n",
    "        if num_threads > 1:\n",
    "       \t\tparsed = pool.map(parse_midi, load_files)\n",
    "       \telse:\n",
    "       \t\tparsed = map(parse_midi, load_files)\n",
    "        # print('Finished in {:.2f} seconds'.format(time.time() - start_time))\n",
    "        # print('parsed, now extracting data')\n",
    "        data = _windows_from_monophonic_instruments(parsed, window_size)\n",
    "        batch_index = 0\n",
    "        while batch_index + batch_size < len(data[0]):\n",
    "            # print('getting data...')\n",
    "            # print('yielding small batch: {}'.format(batch_size))\n",
    "            \n",
    "            res = (data[0][batch_index: batch_index + batch_size], \n",
    "                   data[1][batch_index: batch_index + batch_size])\n",
    "            yield res\n",
    "            batch_index = batch_index + batch_size\n",
    "        \n",
    "        # probably unneeded but why not\n",
    "        del parsed # free the mem\n",
    "        del data # free the mem\n",
    "\n"
   ]
  }
 ],
 "metadata": {
  "anaconda-cloud": {},
  "kernelspec": {
   "display_name": "Python [default]",
   "language": "python",
   "name": "python3"
  },
  "language_info": {
   "codemirror_mode": {
    "name": "ipython",
    "version": 3
   },
   "file_extension": ".py",
   "mimetype": "text/x-python",
   "name": "python",
   "nbconvert_exporter": "python",
   "pygments_lexer": "ipython3",
   "version": "3.5.2"
  }
 },
 "nbformat": 4,
 "nbformat_minor": 1
}
