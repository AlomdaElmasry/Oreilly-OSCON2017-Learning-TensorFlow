{
 "cells": [
  {
   "cell_type": "markdown",
   "metadata": {
    "deletable": true,
    "editable": true
   },
   "source": [
    "<img src=\"./img/oscon.png\" width=\"400\">"
   ]
  },
  {
   "cell_type": "markdown",
   "metadata": {
    "deletable": true,
    "editable": true
   },
   "source": [
    "# Abstraction layers "
   ]
  },
  {
   "cell_type": "markdown",
   "metadata": {
    "deletable": true,
    "editable": true
   },
   "source": [
    "# contrib.learn"
   ]
  },
  {
   "cell_type": "code",
   "execution_count": 1,
   "metadata": {
    "collapsed": false,
    "deletable": true,
    "editable": true
   },
   "outputs": [
    {
     "name": "stderr",
     "output_type": "stream",
     "text": [
      "Using TensorFlow backend.\n"
     ]
    }
   ],
   "source": [
    "import tensorflow as tf\n",
    "import matplotlib.pyplot as plt\n",
    "from sklearn.metrics import confusion_matrix\n",
    "from matplotlib import cm\n",
    "import itertools\n",
    "import numpy as np\n",
    "from tensorflow.contrib import learn\n",
    "from tensorflow.examples.tutorials.mnist import input_data\n",
    "from tensorflow.contrib import layers\n",
    "from sklearn import datasets, metrics, preprocessing\n",
    "from sklearn import model_selection\n",
    "from keras.layers import Input, Conv2D, MaxPooling2D, UpSampling2D, Dropout, Dense\n",
    "from keras.models import Model\n",
    "from keras.datasets import cifar10\n",
    "from keras import utils\n",
    "from keras.datasets import mnist"
   ]
  },
  {
   "cell_type": "code",
   "execution_count": 2,
   "metadata": {
    "collapsed": true
   },
   "outputs": [],
   "source": [
    "def plot_confusion_matrix(cm, classes,\n",
    "                          normalize=False,\n",
    "                          title='Confusion matrix',\n",
    "                          cmap=plt.cm.Blues):\n",
    "    \"\"\"\n",
    "    This function prints and plots the confusion matrix.\n",
    "    Normalization can be applied by setting `normalize=True`.\n",
    "    \"\"\"\n",
    "    plt.imshow(cm, interpolation='nearest', cmap=cmap,aspect='auto')\n",
    "    plt.title(title)\n",
    "    plt.colorbar()\n",
    "    tick_marks = np.arange(len(classes))\n",
    "    plt.xticks(tick_marks, classes, rotation=45)\n",
    "    plt.yticks(tick_marks, classes)\n",
    "\n",
    "    thresh = cm.max() / 2.\n",
    "    for i, j in itertools.product(range(cm.shape[0]), range(cm.shape[1])):\n",
    "        plt.text(j, i, cm[i, j],\n",
    "                 horizontalalignment=\"center\",\n",
    "                 color=\"white\" if cm[i, j] > thresh else \"black\")\n",
    "\n",
    "    plt.tight_layout()\n",
    "    plt.ylabel('True label')\n",
    "    plt.xlabel('Predicted label')\n",
    "    plt.show()"
   ]
  },
  {
   "cell_type": "markdown",
   "metadata": {
    "deletable": true,
    "editable": true
   },
   "source": [
    "# Estimators\n",
    "### 1. Instantiate the Estimator class\n",
    "~~~python \n",
    "model = learn.Estimator()\n",
    "~~~\n",
    "### 2.  Fit it using training data\n",
    "~~~python \n",
    "model.fit()\n",
    "~~~\n",
    "### 3. Evaluate how good is the fit\n",
    "~~~python \n",
    "model.evaluate()\n",
    "~~~\n",
    "### 4. Predict outcomes on new data\n",
    "~~~python \n",
    "model.predict()\n",
    "~~~\n",
    "\n"
   ]
  },
  {
   "cell_type": "markdown",
   "metadata": {
    "deletable": true,
    "editable": true
   },
   "source": [
    "# Deep Neural Network Estimator"
   ]
  },
  {
   "cell_type": "code",
   "execution_count": 3,
   "metadata": {
    "collapsed": false,
    "deletable": true,
    "editable": true
   },
   "outputs": [
    {
     "name": "stdout",
     "output_type": "stream",
     "text": [
      "Extracting /tmp/data/train-images-idx3-ubyte.gz\n",
      "Extracting /tmp/data/train-labels-idx1-ubyte.gz\n",
      "Extracting /tmp/data/t10k-images-idx3-ubyte.gz\n",
      "Extracting /tmp/data/t10k-labels-idx1-ubyte.gz\n"
     ]
    },
    {
     "name": "stderr",
     "output_type": "stream",
     "text": [
      "/home/itay/.virtualenvs/tf_1_0/local/lib/python2.7/site-packages/tensorflow/python/util/deprecation.py:247: FutureWarning: comparison to `None` will result in an elementwise object comparison in the future.\n",
      "  equality = a == b\n"
     ]
    },
    {
     "name": "stdout",
     "output_type": "stream",
     "text": [
      "Done fitting\n"
     ]
    }
   ],
   "source": [
    "tf.logging.set_verbosity(tf.logging.ERROR)\n",
    "\n",
    "DATA_DIR = '/tmp/data'\n",
    "data = input_data.read_data_sets(DATA_DIR, one_hot=False)\n",
    "x_data, y_data = data.train.images,data.train.labels.astype(np.int32)\n",
    "x_test, y_test = data.test.images,data.test.labels.astype(np.int32)\n",
    "feature_columns = [tf.contrib.layers.real_valued_column(\"\", dimension=10)]\n",
    "\n",
    "# Or estimator using the ProximalAdagradOptimizer optimizer with\n",
    "# regularization.\n",
    "\n",
    "\n",
    "estimator = learn.DNNClassifier(\n",
    "    feature_columns=feature_columns,\n",
    "    hidden_units=[200],\n",
    "    n_classes=10,\n",
    "    optimizer=tf.train.ProximalAdagradOptimizer(\n",
    "      learning_rate=0.2,\n",
    "    ))\n",
    "\n",
    "fit = estimator.fit(x=x_data,y=y_data, steps=2000,batch_size=128)\n",
    "print('Done fitting')"
   ]
  },
  {
   "cell_type": "code",
   "execution_count": 4,
   "metadata": {
    "collapsed": false,
    "deletable": true,
    "editable": true
   },
   "outputs": [
    {
     "name": "stdout",
     "output_type": "stream",
     "text": [
      "0.9773\n"
     ]
    }
   ],
   "source": [
    "ev = estimator.evaluate(x=x_test,y=y_test, steps=1)[\"accuracy\"]\n",
    "print(ev)"
   ]
  },
  {
   "cell_type": "markdown",
   "metadata": {
    "deletable": true,
    "editable": true
   },
   "source": [
    " <tr>\n",
    "    <td> <img src=\"./img/mnist-digits-small.png\"  width=\"400\"/> </td>\n",
    "    <td> <img src=\"./img/acc_vs_n_units.png\"  width=\"600\"/> </td>\n",
    "    </tr>"
   ]
  },
  {
   "cell_type": "code",
   "execution_count": 5,
   "metadata": {
    "collapsed": false,
    "deletable": true,
    "editable": true
   },
   "outputs": [
    {
     "data": {
      "image/png": "[encoded data removed]",
      "text/plain": [
       "<matplotlib.figure.Figure at 0x7fc8040bc3d0>"
      ]
     },
     "metadata": {},
     "output_type": "display_data"
    }
   ],
   "source": [
    "y_pred = estimator.predict(x=x_test,as_iterable=False)\n",
    "class_names = ['0','1','2','3','4','5','6','7','8','9']    \n",
    "    \n",
    "    \n",
    "# Compute confusion matrix\n",
    "cnf_matrix = confusion_matrix(y_test, y_pred)\n",
    "np.set_printoptions(precision=2)\n",
    "# Plot non-normalized confusion matrix\n",
    "plt.figure(figsize=[8,6])\n",
    "plot_confusion_matrix(cnf_matrix, classes=class_names,\n",
    "                      title='Confusion matrix, without normalization')"
   ]
  },
  {
   "cell_type": "markdown",
   "metadata": {
    "deletable": true,
    "editable": true
   },
   "source": [
    "# Hands-on 1"
   ]
  },
  {
   "cell_type": "code",
   "execution_count": null,
   "metadata": {
    "collapsed": false,
    "deletable": true,
    "editable": true
   },
   "outputs": [],
   "source": [
    "tf.logging.set_verbosity(tf.logging.ERROR)\n",
    "\n",
    "boston = datasets.load_boston()\n",
    "x_data = preprocessing.StandardScaler().fit_transform(boston.data)\n",
    "y_data = boston.target\n",
    "y_data = y_data.reshape(y_data.shape + (1,))\n",
    "x_train, x_test, y_train, y_test = model_selection.train_test_split(x_data, y_data, test_size=0.2, random_state=0)"
   ]
  },
  {
   "cell_type": "code",
   "execution_count": null,
   "metadata": {
    "collapsed": false,
    "deletable": true,
    "editable": true
   },
   "outputs": [],
   "source": [
    "feature_columns = learn.infer_real_valued_columns_from_input(x_data)\n",
    "optimizer = tf.train.GradientDescentOptimizer(0.1)\n",
    "\n",
    "regressor = learn.LinearRegressor(feature_columns=feature_columns,\n",
    "                                  optimizer=optimizer)\n",
    "\n",
    "##############################################\n",
    "# fit and evalute test data MSE for 1-20 steps\n",
    "##############################################\n",
    "\n",
    "plt.figure()\n",
    "plt.plot(np.arange(20),MSE,lw=3,alpha=0.5)\n",
    "plt.plot(np.arange(20),MSE,'ko',alpha=0.5)\n",
    "plt.title('Boston housing test data MSE',fontsize=20)\n",
    "plt.xlabel('# steps',fontsize=20)\n",
    "plt.ylabel('MSE',fontsize=20)\n",
    "plt.show()"
   ]
  },
  {
   "cell_type": "code",
   "execution_count": null,
   "metadata": {
    "collapsed": false,
    "deletable": true,
    "editable": true
   },
   "outputs": [],
   "source": [
    "%load solutions/solution4.py"
   ]
  },
  {
   "cell_type": "markdown",
   "metadata": {
    "deletable": true,
    "editable": true
   },
   "source": [
    "# Keras\n",
    "Keras is one of the most popular and powerful TensorFlow extension libraries. In 2017 Keras gained official Google support, and as of version 1.1 is part of its contrib library"
   ]
  },
  {
   "cell_type": "markdown",
   "metadata": {
    "collapsed": true,
    "deletable": true,
    "editable": true
   },
   "source": [
    "## Installation\n",
    "\n",
    "~~~python \n",
    "pip install keras\n",
    "~~~\n",
    "\n",
    "Or download from:\n",
    "[Git page](https://github.com/fchollet/keras)\n",
    "\n",
    "And install using:\n",
    "\n",
    "~~~python \n",
    "python setup.py install\n",
    "~~~\n"
   ]
  },
  {
   "cell_type": "markdown",
   "metadata": {
    "deletable": true,
    "editable": true
   },
   "source": [
    "# Creating and running a model\n",
    "\n",
    "***1) We start by defining the shape of the input data***\n",
    "\n",
    "~~~python \n",
    "inputs = Input(shape=(784,))\n",
    "~~~\n",
    "\n",
    "***2) Then create layer, passing the input from one to the next***\n",
    "\n",
    "~~~python \n",
    "x = some layer(input)\n",
    "x = some layer(x)\n",
    "       ...\n",
    "       ...\n",
    "       ...\n",
    "outputs = last layer(x)\n",
    "~~~\n",
    "\n",
    "**3) And now instantiate the model, passing both inputs and outputs**\n",
    "\n",
    "~~~python \n",
    "model = Model(inputs=inputs, outputs=outputs)\n",
    "~~~\n",
    "**4) Compile the* model, assigning it with an optimizer, a loss function and metrics***\n",
    "~~~python \n",
    "cnn.compile(optimizer='adadelta', loss='categorical_crossentropy',metrics=['accuracy'])\n",
    "~~~\n",
    "\n",
    "**5) fit by passing the data, and setting the number of epochs and batch size**\n",
    "\n",
    "\n",
    "model.fit(x_train, y_train, epochs=10, batch_size=64)\n",
    "\n",
    "**6) Evaluate how it does**\n",
    "\n",
    "\n",
    "loss_and_metrics = model.evaluate(x_test, y_test, batch_size=64)\n",
    "\n",
    "**7) Predict new samples**\n",
    "\n",
    "classes = model.predict(x_test, batch_size=64)\n",
    "~~~"
   ]
  },
  {
   "cell_type": "markdown",
   "metadata": {
    "deletable": true,
    "editable": true
   },
   "source": [
    "# Keras vs. Native Tensorflow\n",
    "\n",
    "### Native TensorFlow:\n",
    "\n",
    "~~~python \n",
    "initial = tf.truncated_normal([5, 5, 1, 32], stddev=0.1)\n",
    "W = tf.Variable(initial)\n",
    "initial = tf.constant(0, shape=32)\n",
    "b = tf.Variable(initial)\n",
    "img = nn.conv2d(x, W, strides=[1, 1, 1, 1], padding='SAME')\n",
    "img = tf.nn.relu(img + b)\n",
    "~~~\n",
    "\n",
    "### Keras:\n",
    "\n",
    "~~~python \n",
    "init = keras.initializers.RandomNormal(mean=0.0, stddev=0.1)\n",
    "img = Conv2D(32, (5, 5),\n",
    "    activation='relu', \n",
    "    padding='same',\n",
    "    kernel_initializer=init,\n",
    "    bias_initializer='zeros'\n",
    "    )(inp_img)\n",
    "~~~\n",
    "\n",
    "### Native TensorFlow:\n",
    "\n",
    "~~~python \n",
    "cross_entropy = tf.reduce_mean(tf.nn.softmax_cross_entropy_with_logits(logits = y_conv, labels = y_))\n",
    "train_step = tf.train.AdamOptimizer(1e-4).minimize(cross_entropy)\n",
    "correct_prediction = tf.equal(tf.argmax(y_conv, 1), tf.argmax(y_, 1))\n",
    "accuracy = tf.reduce_mean(tf.cast(correct_prediction, tf.float32))\n",
    "sess =  tf.Session()\n",
    "sess.run(tf.global_variables_initializer())\n",
    "\n",
    "for i in range(STEPS):\n",
    "    batch = mnist.train.next_batch(MINIBATCH_SIZE)\n",
    "\n",
    "    if i % 200 == 0:\n",
    "        valid_accuracy = sess.run(accuracy, \n",
    "                                  feed_dict={x: mnist.validation.images, \n",
    "                                             y_: mnist.validation.labels,\n",
    "                                             keep_prob: 1.0})        \n",
    "\n",
    "    sess.run(train_step, feed_dict={x: batch[0], y_: batch[1], keep_prob: 0.5})\n",
    "    \n",
    "test_accuracy = np.mean([sess.run(accuracy, feed_dict={x:x_test, y_:y_test, \n",
    "~~~\n",
    "                                              keep_prob:1.0}) for i in range(10)])    \n",
    "### Keras:\n",
    "\n",
    "~~~python \n",
    "cnn.compile(optimizer='adadelta', loss='categorical_crossentropy',metrics=['accuracy'])\n",
    "cnn.fit(x_train, y_train,\n",
    "                epochs=10,\n",
    "                batch_size=128,\n",
    "                shuffle=True,\n",
    "                validation_data=(x_test, y_test)\n",
    "               )\n",
    "cnn.evaluate(x_test,y_test)\n",
    "~~~\n"
   ]
  },
  {
   "cell_type": "markdown",
   "metadata": {
    "deletable": true,
    "editable": true
   },
   "source": [
    "# CNN for image classification (MNIST)"
   ]
  },
  {
   "cell_type": "code",
   "execution_count": 6,
   "metadata": {
    "collapsed": false,
    "deletable": true,
    "editable": true
   },
   "outputs": [
    {
     "name": "stdout",
     "output_type": "stream",
     "text": [
      "Extracting /tmp/data/train-images-idx3-ubyte.gz\n",
      "Extracting /tmp/data/train-labels-idx1-ubyte.gz\n",
      "Extracting /tmp/data/t10k-images-idx3-ubyte.gz\n",
      "Extracting /tmp/data/t10k-labels-idx1-ubyte.gz\n"
     ]
    }
   ],
   "source": [
    "DATA_DIR = '/tmp/data'\n",
    "data = input_data.read_data_sets(DATA_DIR, one_hot=True)\n",
    "x_train, y_train = data.train.images,data.train.labels.astype(np.int32)\n",
    "x_test, y_test = data.test.images,data.test.labels.astype(np.int32)"
   ]
  },
  {
   "cell_type": "code",
   "execution_count": 7,
   "metadata": {
    "collapsed": false,
    "deletable": true,
    "editable": true
   },
   "outputs": [],
   "source": [
    "x_train = np.reshape(x_train, [-1, 28, 28, 1])\n",
    "x_test = np.reshape(x_test, [-1, 28, 28, 1])"
   ]
  },
  {
   "cell_type": "code",
   "execution_count": 10,
   "metadata": {
    "collapsed": false,
    "deletable": true,
    "editable": true
   },
   "outputs": [],
   "source": [
    "from keras.layers import Input, Conv2D, MaxPooling2D, UpSampling2D, Dropout, Flatten\n",
    "from keras.models import Model\n",
    "\n",
    "\n",
    "inp_img = Input(shape=(28, 28, 1))  \n",
    "img = Conv2D(32, (5, 5), activation='relu', padding='same')(inp_img)\n",
    "img = MaxPooling2D((2, 2), padding='same')(img)\n",
    "img = Conv2D(64, (5, 5), activation='relu', padding='same')(img)             \n",
    "img = MaxPooling2D((2, 2), padding='same')(img)\n",
    "img = Flatten()(img)\n",
    "img = Dense(1024,activation=\"relu\")(img)\n",
    "img = Dropout(0.5)(img)\n",
    "decoded = Dense(10,activation=\"softmax\")(img)\n",
    "\n",
    "cnn = Model(inp_img, decoded)\n",
    "cnn.compile(optimizer='adadelta', loss='categorical_crossentropy',metrics=['accuracy'])\n",
    "\n",
    "cnn.fit(x_train, y_train,\n",
    "                epochs=10,\n",
    "                batch_size=128,\n",
    "                shuffle=True,\n",
    "                validation_data=(x_test, y_test)\n",
    "               )"
   ]
  },
  {
   "cell_type": "code",
   "execution_count": 9,
   "metadata": {
    "collapsed": false
   },
   "outputs": [
    {
     "name": "stdout",
     "output_type": "stream",
     "text": [
      " 9920/10000 [============================>.] - ETA: 0s[0.05693660478955135, 0.98089999999999999]\n"
     ]
    }
   ],
   "source": [
    "loss_and_metrics = cnn.evaluate(x_test, y_test, batch_size=64)\n",
    "print(loss_and_metrics)"
   ]
  },
  {
   "cell_type": "markdown",
   "metadata": {
    "deletable": true,
    "editable": true
   },
   "source": [
    "# CNN for image classification (Cifar10)"
   ]
  },
  {
   "cell_type": "markdown",
   "metadata": {
    "collapsed": true,
    "deletable": true,
    "editable": true
   },
   "source": [
    "# Autoencoders\n",
    "Output a reconstruction of the input after having its dimensionality reduced in the process\n",
    "\n",
    "Autoencoders create a bottleneck layer, called a hidden layer that has a smaller number of units than the input layer, forcing the data to be compressed before reconstructed. For the reconstruction (decoding) to be done efficiently, autoencoders extract representative features that capture some hidden abstraction.\n",
    "\n",
    "<img src=\"./img/autoencoders2.png\" width=\"800\">"
   ]
  },
  {
   "cell_type": "markdown",
   "metadata": {},
   "source": [
    "### Load Cifar10 data"
   ]
  },
  {
   "cell_type": "code",
   "execution_count": 11,
   "metadata": {
    "collapsed": false,
    "deletable": true,
    "editable": true
   },
   "outputs": [],
   "source": [
    "(x_train, y_train), (x_test, y_test) = cifar10.load_data()"
   ]
  },
  {
   "cell_type": "markdown",
   "metadata": {},
   "source": [
    "### Take only images of class '1'"
   ]
  },
  {
   "cell_type": "code",
   "execution_count": 12,
   "metadata": {
    "collapsed": false,
    "deletable": true,
    "editable": true
   },
   "outputs": [],
   "source": [
    "x_train = x_train[np.where(y_train==1)[0],:,:,:]\n",
    "x_test = x_test[np.where(y_test==1)[0],:,:,:]"
   ]
  },
  {
   "cell_type": "markdown",
   "metadata": {},
   "source": [
    "### converting our data to float32 and and normalize it to range between [0,1]. "
   ]
  },
  {
   "cell_type": "code",
   "execution_count": 13,
   "metadata": {
    "collapsed": true
   },
   "outputs": [],
   "source": [
    "x_train = x_train.astype('float32') / 255.\n",
    "x_test = x_test.astype('float32') / 255."
   ]
  },
  {
   "cell_type": "markdown",
   "metadata": {
    "deletable": true,
    "editable": true
   },
   "source": [
    "### Then we add some Gaussian noise, and clip values that are either smaller than 0 or larger than 1."
   ]
  },
  {
   "cell_type": "code",
   "execution_count": 14,
   "metadata": {
    "collapsed": true,
    "deletable": true,
    "editable": true
   },
   "outputs": [],
   "source": [
    "x_train_n = x_train + 0.5 * np.random.normal(loc=0.0, scale=0.4, size=x_train.shape) \n",
    "x_test_n = x_test + 0.5 * np.random.normal(loc=0.0, scale=0.4, size=x_test.shape) \n",
    "\n",
    "x_train_n = np.clip(x_train_n, 0., 1.)\n",
    "x_test_n = np.clip(x_test_n, 0., 1.)"
   ]
  },
  {
   "cell_type": "code",
   "execution_count": 15,
   "metadata": {
    "collapsed": false,
    "deletable": true,
    "editable": true
   },
   "outputs": [
    {
     "data": {
      "image/png": "[encoded data removed]",
      "text/plain": [
       "<matplotlib.figure.Figure at 0x7fc8017add10>"
      ]
     },
     "metadata": {},
     "output_type": "display_data"
    }
   ],
   "source": [
    "n = 10\n",
    "plt.figure(figsize=(20, 2))\n",
    "for i in range(1,n):\n",
    "    ax = plt.subplot(1, n, i)\n",
    "    plt.imshow(x_test_n[i])\n",
    "    plt.gray()\n",
    "    ax.get_xaxis().set_visible(False)\n",
    "    ax.get_yaxis().set_visible(False)\n",
    "plt.show()"
   ]
  },
  {
   "cell_type": "markdown",
   "metadata": {
    "deletable": true,
    "editable": true
   },
   "source": [
    "We declare the input layer (every image in CIFAR is 32x32 pixels with RGB channels)\n",
    "\n"
   ]
  },
  {
   "cell_type": "code",
   "execution_count": 16,
   "metadata": {
    "collapsed": false,
    "deletable": true,
    "editable": true
   },
   "outputs": [
    {
     "name": "stdout",
     "output_type": "stream",
     "text": [
      "Input layer shape: (?, 32, 32, 3)\n"
     ]
    }
   ],
   "source": [
    "inp_img = Input(shape=(32, 32, 3))  \n",
    "print(\"Input layer shape: {}\".format(inp_img.get_shape()))"
   ]
  },
  {
   "cell_type": "markdown",
   "metadata": {
    "deletable": true,
    "editable": true
   },
   "source": [
    "Our first layer is a 2D convolution layer, where the first argument is the number of filters (and thus the number of output images), and the second is the size of each filter."
   ]
  },
  {
   "cell_type": "code",
   "execution_count": 17,
   "metadata": {
    "collapsed": false,
    "deletable": true,
    "editable": true
   },
   "outputs": [
    {
     "name": "stdout",
     "output_type": "stream",
     "text": [
      "Layer 1 shape: (?, 32, 32, 32)\n"
     ]
    }
   ],
   "source": [
    "img= Conv2D(32, (3, 3), activation='relu', padding='same')(inp_img)\n",
    "print(\"Layer 1 shape: {}\".format(img.get_shape()))"
   ]
  },
  {
   "cell_type": "markdown",
   "metadata": {
    "deletable": true,
    "editable": true
   },
   "source": [
    "Next, we add more \"legos\" layers: we add a 2x2 pooling layer , another convolution layer, an up-sampling (repeating the rows and columns of the data to get back the same number of pixels in each image), and finally a convolutional output layer where we go back to 3 channels. "
   ]
  },
  {
   "cell_type": "code",
   "execution_count": 18,
   "metadata": {
    "collapsed": false,
    "deletable": true,
    "editable": true
   },
   "outputs": [
    {
     "name": "stdout",
     "output_type": "stream",
     "text": [
      "Layer 2 shape: (?, 16, 16, 32)\n",
      "Layer 3 shape: (?, 16, 16, 32)\n",
      "Layer 4 shape: (?, 32, 32, 32)\n",
      "Layer 5 shape: (?, 32, 32, 32)\n"
     ]
    }
   ],
   "source": [
    "img = MaxPooling2D((2, 2), padding='same')(img)\n",
    "print(\"Layer 2 shape: {}\".format(img.get_shape()))\n",
    "\n",
    "img = Conv2D(32, (3, 3), activation='relu', padding='same')(img)\n",
    "print(\"Layer 3 shape: {}\".format(img.get_shape()))\n",
    "\n",
    "img = UpSampling2D((2, 2))(img)\n",
    "print(\"Layer 4 shape: {}\".format(img.get_shape()))\n",
    "\n",
    "decoded = Conv2D(3, (3, 3), activation='sigmoid', padding='same')(img)\n",
    "print(\"Layer 5 shape: {}\".format(img.get_shape()))"
   ]
  },
  {
   "cell_type": "markdown",
   "metadata": {
    "deletable": true,
    "editable": true
   },
   "source": [
    "We declare the functional model format, passing both inputs and ouputs. \n",
    "\n"
   ]
  },
  {
   "cell_type": "code",
   "execution_count": 19,
   "metadata": {
    "collapsed": true,
    "deletable": true,
    "editable": true
   },
   "outputs": [],
   "source": [
    "autoencoder = Model(inp_img, decoded)"
   ]
  },
  {
   "cell_type": "markdown",
   "metadata": {
    "deletable": true,
    "editable": true
   },
   "source": [
    "We compile the model, declaring the loss function and the optimizer, in this case the Adagrad optimizer. "
   ]
  },
  {
   "cell_type": "code",
   "execution_count": 20,
   "metadata": {
    "collapsed": true,
    "deletable": true,
    "editable": true
   },
   "outputs": [],
   "source": [
    "autoencoder.compile(optimizer='adadelta', loss='binary_crossentropy')"
   ]
  },
  {
   "cell_type": "code",
   "execution_count": null,
   "metadata": {
    "collapsed": false,
    "deletable": true,
    "editable": true
   },
   "outputs": [
    {
     "name": "stdout",
     "output_type": "stream",
     "text": [
      "Train on 5000 samples, validate on 1000 samples\n",
      "Epoch 1/1\n",
      "5000/5000 [==============================] - 14s - loss: 0.6282 - val_loss: 0.5808\n"
     ]
    },
    {
     "data": {
      "text/plain": [
       "<keras.callbacks.History at 0x7fc807b6ca50>"
      ]
     },
     "execution_count": 21,
     "metadata": {},
     "output_type": "execute_result"
    }
   ],
   "source": [
    "from keras.callbacks import TensorBoard\n",
    "from keras.callbacks import ModelCheckpoint\n",
    "\n",
    "tensorboard = TensorBoard(log_dir='./models/autoencoder', histogram_freq=0,  \n",
    "          write_graph=True, write_images=True)\n",
    "\n",
    "model_saver = ModelCheckpoint(filepath='./models/autoencoder/autoencoder_model',verbose=0,period=2)\n",
    "\n",
    "\n",
    "autoencoder.fit(x_train_n, x_train,\n",
    "                epochs=1,\n",
    "                batch_size=64,\n",
    "                shuffle=True,\n",
    "                validation_data=(x_test_n, x_test),\n",
    "                callbacks=[tensorboard,model_saver])"
   ]
  },
  {
   "cell_type": "code",
   "execution_count": null,
   "metadata": {
    "collapsed": false,
    "deletable": true,
    "editable": true
   },
   "outputs": [
    {
     "name": "stdout",
     "output_type": "stream",
     "text": [
      "Train on 5000 samples, validate on 1000 samples\n",
      "Epoch 1/1\n",
      "5000/5000 [==============================] - 14s - loss: 0.5759 - val_loss: 0.5832\n",
      "Train on 5000 samples, validate on 1000 samples\n",
      "Epoch 1/1\n",
      "5000/5000 [==============================] - 15s - loss: 0.5640 - val_loss: 0.5555\n",
      "Train on 5000 samples, validate on 1000 samples\n",
      "Epoch 1/1\n",
      "5000/5000 [==============================] - 15s - loss: 0.5587 - val_loss: 0.5536\n",
      "Train on 5000 samples, validate on 1000 samples\n",
      "Epoch 1/1\n",
      "3392/5000 [===================>..........] - ETA: 4s - loss: 0.5552"
     ]
    }
   ],
   "source": [
    "from keras.callbacks import TensorBoard\n",
    "from keras.callbacks import ModelCheckpoint\n",
    "\n",
    "tensorboard = TensorBoard(log_dir='./models/autoencoder', histogram_freq=0,  \n",
    "          write_graph=True, write_images=True)\n",
    "\n",
    "model_saver = ModelCheckpoint(filepath='./models/autoencoder/autoencoder_model',verbose=0,period=2)\n",
    "\n",
    "decoded_imgs = []\n",
    "\n",
    "for i in range(10):\n",
    "    autoencoder.fit(x_train_n, x_train,\n",
    "                    epochs=1,\n",
    "                    batch_size=64,\n",
    "                    shuffle=True,\n",
    "                    validation_data=(x_test_n, x_test),\n",
    "                    callbacks=[tensorboard,model_saver])\n",
    "\n",
    "    decoded_imgs.append(autoencoder.predict(x_test_n))\n"
   ]
  },
  {
   "cell_type": "code",
   "execution_count": null,
   "metadata": {
    "collapsed": false,
    "deletable": true,
    "editable": true
   },
   "outputs": [],
   "source": [
    "n_imgs = 10\n",
    "f,axarr = plt.subplots(2,n_imgs,figsize=[20,10])\n",
    "decoded_imgs = autoencoder.predict(x_test_n)\n",
    "for i in range(n_imgs):\n",
    "    ax = axarr[0,i]\n",
    "    ax.imshow(x_test_n[i,:,:,0])\n",
    "    plt.gray()\n",
    "    ax.get_xaxis().set_visible(False)\n",
    "    ax.get_yaxis().set_visible(False)\n",
    "    ax = axarr[1,i]\n",
    "    ax.imshow(decoded_imgs[i,:,:,0])\n",
    "    plt.gray()\n",
    "    ax.get_xaxis().set_visible(False)\n",
    "    ax.get_yaxis().set_visible(False)\n",
    "            \n",
    "plt.tight_layout()\n",
    "plt.show()"
   ]
  },
  {
   "cell_type": "markdown",
   "metadata": {},
   "source": [
    "# Denoising results for different epochs\n",
    "\n",
    "<img src=\"./img/denoising_cifar.png\" width=\"800\">"
   ]
  },
  {
   "cell_type": "markdown",
   "metadata": {},
   "source": [
    "# Hands on 2\n",
    "### Denoise MNIST data"
   ]
  },
  {
   "cell_type": "code",
   "execution_count": null,
   "metadata": {
    "collapsed": false
   },
   "outputs": [],
   "source": [
    "(x_train, _), (x_test, _) = mnist.load_data()\n",
    "\n",
    "x_train = x_train.astype('float32') / 255.\n",
    "x_test = x_test.astype('float32') / 255.\n",
    "x_train = np.reshape(x_train, (len(x_train), 28, 28, 1))  # adapt this if using `channels_first` image data format\n",
    "x_test = np.reshape(x_test, (len(x_test), 28, 28, 1))  # adapt this if using `channels_first` image data format\n",
    "\n"
   ]
  },
  {
   "cell_type": "code",
   "execution_count": null,
   "metadata": {
    "collapsed": true
   },
   "outputs": [],
   "source": [
    "noise_factor = 0.5\n",
    "\n",
    "x_train_n = x_train + 0.5 * np.random.normal(loc=0.0, scale=1.0, size=x_train.shape) \n",
    "x_test_n = x_test + noise_factor * np.random.normal(loc=0.0, scale=1.0, size=x_test.shape) \n",
    "\n",
    "x_train_n = np.clip(x_train_n, 0., 1.)\n",
    "x_test_n = np.clip(x_test_n, 0., 1.)"
   ]
  },
  {
   "cell_type": "markdown",
   "metadata": {},
   "source": [
    "- ***Input***\n",
    "\n",
    "\n",
    "- ***2D convolution with 32  3x3 filters + relu activation function***\n",
    "- *** max pooling with 2x2*** (compress)\n",
    "- ***2D convolution with 32  3x3 filters + relu activation function***\n",
    "- *** max pooling with 2x2*** (compress)\n",
    "\n",
    "\n",
    "- ***2D convolution with 32  3x3 filters + relu activation function***\n",
    "- *** max upsampling with 2x2*** (decompress)\n",
    "- ***2D convolution with 32  3x3 fil ters + relu activation function***\n",
    "- *** max upsampling with 2x2*** (decompress)\n",
    "- ***2D convolution with 1  3x3 filters + sigmoid activation function***\n",
    "\n",
    "\n",
    "- ***Output***\n"
   ]
  },
  {
   "cell_type": "code",
   "execution_count": null,
   "metadata": {
    "collapsed": false
   },
   "outputs": [],
   "source": [
    "n_imgs = 10\n",
    "f,axarr = plt.subplots(2,n_imgs,figsize=[20,5])\n",
    "for i in range(n_imgs):\n",
    "    ax = axarr[0,i]\n",
    "    ax.imshow(x_test_n[i,:,:,0])\n",
    "    ax.get_xaxis().set_visible(False)\n",
    "    ax.get_yaxis().set_visible(False)\n",
    "    ax = axarr[1,i]\n",
    "    ax.imshow(decoded_imgs[i,:,:,0])\n",
    "    ax.get_xaxis().set_visible(False)\n",
    "    ax.get_yaxis().set_visible(False)\n",
    "            \n",
    "plt.tight_layout()\n",
    "plt.show()"
   ]
  },
  {
   "cell_type": "code",
   "execution_count": null,
   "metadata": {
    "collapsed": false
   },
   "outputs": [],
   "source": [
    "%load solutions/solution5.py"
   ]
  }
 ],
 "metadata": {
  "anaconda-cloud": {},
  "kernelspec": {
   "display_name": "tf_1_0",
   "language": "python",
   "name": "tf_1_0"
  },
  "language_info": {
   "codemirror_mode": {
    "name": "ipython",
    "version": 2
   },
   "file_extension": ".py",
   "mimetype": "text/x-python",
   "name": "python",
   "nbconvert_exporter": "python",
   "pygments_lexer": "ipython2",
   "version": "2.7.12"
  }
 },
 "nbformat": 4,
 "nbformat_minor": 1
}
