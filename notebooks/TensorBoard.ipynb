{
 "cells": [
  {
   "cell_type": "markdown",
   "metadata": {},
   "source": [
    "<img src=\"./img/oscon.png\" width=\"400\">"
   ]
  },
  {
   "cell_type": "markdown",
   "metadata": {},
   "source": [
    "# Session 4: TensorBoard Visualization"
   ]
  },
  {
   "cell_type": "markdown",
   "metadata": {},
   "source": [
    "In this session, we explore the use of TensorBoard, to visualize the training + computation graph of the simple softmax classifier trained on MNIST we saw in previous sessions. "
   ]
  },
  {
   "cell_type": "markdown",
   "metadata": {},
   "source": [
    "## Reminder: MNIST softmax classifier"
   ]
  },
  {
   "cell_type": "code",
   "execution_count": null,
   "metadata": {
    "collapsed": false
   },
   "outputs": [],
   "source": [
    "from __future__ import print_function\n",
    "\n",
    "import tensorflow as tf\n",
    "import sys,os\n",
    "from tensorflow.examples.tutorials.mnist import input_data\n",
    "DATA_DIR = os.path.join(os.environ[\"HOME\"], \"data\") if not 'win' in sys.platform else \"c:\\\\tmp\\\\data\"\n",
    "\n",
    "NUM_STEPS = 1000\n",
    "MINIBATCH_SIZE = 100"
   ]
  },
  {
   "cell_type": "code",
   "execution_count": null,
   "metadata": {
    "collapsed": false
   },
   "outputs": [],
   "source": [
    "data = input_data.read_data_sets(DATA_DIR, one_hot=True)"
   ]
  },
  {
   "cell_type": "code",
   "execution_count": null,
   "metadata": {
    "collapsed": false
   },
   "outputs": [],
   "source": [
    "x = tf.placeholder(tf.float32, [None, 784])\n",
    "W = tf.Variable(tf.zeros([784, 10]))\n",
    "b = tf.Variable(tf.zeros([10]))\n",
    "\n",
    "y_true = tf.placeholder(tf.float32, [None, 10])\n",
    "y_pred = tf.add(tf.matmul(x, W),b)"
   ]
  },
  {
   "cell_type": "code",
   "execution_count": null,
   "metadata": {
    "collapsed": true
   },
   "outputs": [],
   "source": [
    "cross_entropy = tf.reduce_mean(tf.nn.softmax_cross_entropy_with_logits(logits = y_pred, labels = y_true))\n",
    "\n",
    "gd_step = tf.train.GradientDescentOptimizer(0.5).minimize(cross_entropy)\n",
    "\n",
    "correct_mask = tf.equal(tf.argmax(y_pred, 1), tf.argmax(y_true, 1))\n",
    "accuracy = tf.reduce_mean(tf.cast(correct_mask, tf.float32))"
   ]
  },
  {
   "cell_type": "code",
   "execution_count": null,
   "metadata": {
    "collapsed": true
   },
   "outputs": [],
   "source": [
    "sess = tf.InteractiveSession()"
   ]
  },
  {
   "cell_type": "code",
   "execution_count": null,
   "metadata": {
    "collapsed": true
   },
   "outputs": [],
   "source": [
    "# Train\n",
    "sess.run(tf.global_variables_initializer())\n",
    "\n",
    "for _ in range(NUM_STEPS):\n",
    "    batch_xs, batch_ys = data.train.next_batch(MINIBATCH_SIZE)\n",
    "    sess.run(gd_step, feed_dict={x: batch_xs, y_true: batch_ys})\n"
   ]
  },
  {
   "cell_type": "code",
   "execution_count": null,
   "metadata": {
    "collapsed": false
   },
   "outputs": [],
   "source": [
    "# Test\n",
    "ans = sess.run(accuracy, feed_dict={x: data.test.images, y_true: data.test.labels})\n",
    "\n",
    "print (\"Accuracy: {:.4}%\".format(ans*100))\n",
    "sess.close()"
   ]
  },
  {
   "cell_type": "markdown",
   "metadata": {},
   "source": [
    "## Adding summaries"
   ]
  },
  {
   "cell_type": "markdown",
   "metadata": {},
   "source": [
    "We'd like to visualize our TensorFlow graph, and plot metrics from the training process. For graph visualization, we add variable name scopes to define a hierarchy on nodes in the graph that is used by TensorBoard when displaying the graph. Summary operations are attached to nodes in the graph we are interested in plotting. "
   ]
  },
  {
   "cell_type": "code",
   "execution_count": null,
   "metadata": {
    "collapsed": false
   },
   "outputs": [],
   "source": [
    "tf.reset_default_graph()\n",
    "sess = tf.InteractiveSession()\n",
    "with tf.name_scope('input_x'):\n",
    "    x = tf.placeholder(tf.float32, [None, 784])\n",
    "with tf.name_scope('input_label'):\n",
    "    y_true = tf.placeholder(tf.float32, [None, 10]) \n",
    "with tf.name_scope('input_reshape'):\n",
    "    image_shaped_input = tf.reshape(x, [-1, 28, 28, 1])\n",
    "    tf.summary.image('input', image_shaped_input, 10)"
   ]
  },
  {
   "cell_type": "code",
   "execution_count": null,
   "metadata": {
    "collapsed": true
   },
   "outputs": [],
   "source": [
    "with tf.name_scope('weights'):    \n",
    "    W = tf.Variable(tf.zeros([784, 10]))\n",
    "    with tf.name_scope('summaries'):\n",
    "      mean = tf.reduce_mean(W)\n",
    "      tf.summary.scalar('mean', mean)\n",
    "      tf.summary.histogram('histogram', W)\n",
    "with tf.name_scope('biases'):    \n",
    "    b = tf.Variable(tf.zeros([10]))\n",
    "    with tf.name_scope('summaries'):\n",
    "      mean = tf.reduce_mean(b)\n",
    "      tf.summary.scalar('mean', mean)\n",
    "      tf.summary.histogram('histogram', b)\n",
    "\n",
    "with tf.name_scope('Wx_b'):     \n",
    "    y_pred = tf.add(tf.matmul(x, W),b)\n",
    "    tf.summary.histogram('Wx_b', y_pred)"
   ]
  },
  {
   "cell_type": "code",
   "execution_count": null,
   "metadata": {
    "collapsed": true
   },
   "outputs": [],
   "source": [
    "with tf.name_scope('loss'): \n",
    "    cross_entropy = tf.reduce_mean(tf.nn.softmax_cross_entropy_with_logits(logits = y_pred, labels = y_true))\n",
    "    tf.summary.scalar('loss', cross_entropy)\n",
    "    \n",
    "with tf.name_scope('train'):\n",
    "    gd_step = tf.train.GradientDescentOptimizer(0.5).minimize(cross_entropy)\n",
    "with tf.name_scope('correct_pred'):\n",
    "        correct_mask = tf.equal(tf.argmax(y_pred, 1), tf.argmax(y_true, 1))\n",
    "with tf.name_scope('accuracy'):\n",
    "  accuracy = tf.reduce_mean(tf.cast(correct_mask, tf.float32))\n"
   ]
  },
  {
   "cell_type": "markdown",
   "metadata": {},
   "source": [
    "We next merge all the summaries into one op, generating a serialized object with all summary data at a given step. This serialized object is passed to a FileWriter, which writes the data to disk. FileWriter takes a logdir, which is the path to the folder we save all data. If given a TensorFlow graph object, FileWriter will also create a very useful visualization of our computation graph."
   ]
  },
  {
   "cell_type": "code",
   "execution_count": null,
   "metadata": {
    "collapsed": false
   },
   "outputs": [],
   "source": [
    "# Merge all the summaries and write them out to LOG_DIR\n",
    "merged = tf.summary.merge_all()\n",
    "train_writer = tf.summary.FileWriter(os.path.join(DATA_DIR,\"logs\\\\demo\\\\train\"), sess.graph)\n",
    "test_writer = tf.summary.FileWriter(os.path.join(DATA_DIR,\"logs\\\\demo\\\\test\"))"
   ]
  },
  {
   "cell_type": "code",
   "execution_count": null,
   "metadata": {
    "collapsed": false
   },
   "outputs": [],
   "source": [
    "# Train\n",
    "sess.run(tf.global_variables_initializer())\n",
    "\n",
    "for i in range(NUM_STEPS):\n",
    "\n",
    "    batch_xs, batch_ys = data.train.next_batch(MINIBATCH_SIZE)\n",
    "    summary, _ = sess.run([merged, gd_step], feed_dict={x: batch_xs, y_true: batch_ys})\n",
    "    train_writer.add_summary(summary, i)\n",
    "    if i % 10 == 0:  # Record summaries and test-set accuracy\n",
    "      summary, acc = sess.run([merged, accuracy], feed_dict={x: data.test.images, y_true: data.test.labels})\n",
    "      test_writer.add_summary(summary, i)\n",
    "      print('Accuracy at step %s: %s' % (i, acc))\n",
    "train_writer.close()\n",
    "test_writer.close()        "
   ]
  },
  {
   "cell_type": "markdown",
   "metadata": {},
   "source": [
    "Run the command line: tensorboard --logdir=demo:DATA_DIR [replace DATA_DIR with your path]\n",
    "\n",
    "Then, in your browser, go to localhost:6006 (or the address printed in the console)\n",
    "\n",
    "Note: TensorBoard recursively walks the directory tree rooted at logdir looking for subdirectories that contain tfevents data. "
   ]
  },
  {
   "cell_type": "markdown",
   "metadata": {},
   "source": [
    "## Quick hands-on"
   ]
  },
  {
   "cell_type": "markdown",
   "metadata": {
    "collapsed": true
   },
   "source": [
    "Take TensorBoard for a spin:\n",
    "\n",
    "* Add some more types of summaries (you'll need to use the suitable TensorFlow ops that you saw earlier!):\n",
    "    * Max\n",
    "    * Min\n",
    "    * Standard deviation\n",
    "    \n",
    "* Run and check out results. To avoid overwriting of existing data, add another subdirectory to the log directory given to FileWriter. For example, use tf.summary.FileWriter(os.path.join(DATA_DIR,\"logs\\\\ex1\\\\train\"), sess.graph).\n"
   ]
  },
  {
   "cell_type": "code",
   "execution_count": null,
   "metadata": {
    "collapsed": false
   },
   "outputs": [],
   "source": [
    "# %load ..\\solutions\\tfboard_ex1.py    "
   ]
  }
 ],
 "metadata": {
  "anaconda-cloud": {},
  "kernelspec": {
   "display_name": "Python [default]",
   "language": "python",
   "name": "python3"
  },
  "language_info": {
   "codemirror_mode": {
    "name": "ipython",
    "version": 3
   },
   "file_extension": ".py",
   "mimetype": "text/x-python",
   "name": "python",
   "nbconvert_exporter": "python",
   "pygments_lexer": "ipython3",
   "version": "3.5.2"
  }
 },
 "nbformat": 4,
 "nbformat_minor": 1
}
