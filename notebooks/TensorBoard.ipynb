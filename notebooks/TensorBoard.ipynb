{
 "cells": [
  {
   "cell_type": "markdown",
   "metadata": {},
   "source": [
    "<img src=\"./img/oscon.png\" width=\"400\">"
   ]
  },
  {
   "cell_type": "markdown",
   "metadata": {},
   "source": [
    "# Session 4: TensorBoard Visualization"
   ]
  },
  {
   "cell_type": "markdown",
   "metadata": {},
   "source": [
    "In this session, we explore the use of TensorBoard, to visualize the training + computation graph of the simple softmax classifier trained on MNIST we saw in previous sessions. "
   ]
  },
  {
   "cell_type": "markdown",
   "metadata": {},
   "source": [
    "## Reminder: MNIST softmax classifier"
   ]
  },
  {
   "cell_type": "code",
   "execution_count": 1,
   "metadata": {
    "collapsed": false
   },
   "outputs": [],
   "source": [
    "from __future__ import print_function\n",
    "\n",
    "import tensorflow as tf\n",
    "import sys,os\n",
    "from tensorflow.examples.tutorials.mnist import input_data\n",
    "DATA_DIR = os.path.join(os.environ[\"HOME\"], \"data\") if not 'win' in sys.platform else \"c:\\\\tmp\\\\data\"\n",
    "\n",
    "NUM_STEPS = 1000\n",
    "MINIBATCH_SIZE = 100"
   ]
  },
  {
   "cell_type": "code",
   "execution_count": 2,
   "metadata": {
    "collapsed": false
   },
   "outputs": [
    {
     "name": "stdout",
     "output_type": "stream",
     "text": [
      "Extracting c:\\tmp\\data\\train-images-idx3-ubyte.gz\n",
      "Extracting c:\\tmp\\data\\train-labels-idx1-ubyte.gz\n",
      "Extracting c:\\tmp\\data\\t10k-images-idx3-ubyte.gz\n",
      "Extracting c:\\tmp\\data\\t10k-labels-idx1-ubyte.gz\n"
     ]
    }
   ],
   "source": [
    "data = input_data.read_data_sets(DATA_DIR, one_hot=True)"
   ]
  },
  {
   "cell_type": "code",
   "execution_count": 3,
   "metadata": {
    "collapsed": false
   },
   "outputs": [],
   "source": [
    "x = tf.placeholder(tf.float32, [None, 784])\n",
    "W = tf.Variable(tf.zeros([784, 10]))\n",
    "b = tf.Variable(tf.zeros([10]))\n",
    "\n",
    "y_true = tf.placeholder(tf.float32, [None, 10])\n",
    "y_pred = tf.add(tf.matmul(x, W),b)"
   ]
  },
  {
   "cell_type": "code",
   "execution_count": 4,
   "metadata": {
    "collapsed": true
   },
   "outputs": [],
   "source": [
    "cross_entropy = tf.reduce_mean(tf.nn.softmax_cross_entropy_with_logits(logits = y_pred, labels = y_true))\n",
    "\n",
    "gd_step = tf.train.GradientDescentOptimizer(0.5).minimize(cross_entropy)\n",
    "\n",
    "correct_mask = tf.equal(tf.argmax(y_pred, 1), tf.argmax(y_true, 1))\n",
    "accuracy = tf.reduce_mean(tf.cast(correct_mask, tf.float32))"
   ]
  },
  {
   "cell_type": "code",
   "execution_count": 5,
   "metadata": {
    "collapsed": true
   },
   "outputs": [],
   "source": [
    "sess = tf.InteractiveSession()"
   ]
  },
  {
   "cell_type": "code",
   "execution_count": 6,
   "metadata": {
    "collapsed": true
   },
   "outputs": [],
   "source": [
    "# Train\n",
    "sess.run(tf.global_variables_initializer())\n",
    "\n",
    "for _ in range(NUM_STEPS):\n",
    "    batch_xs, batch_ys = data.train.next_batch(MINIBATCH_SIZE)\n",
    "    sess.run(gd_step, feed_dict={x: batch_xs, y_true: batch_ys})\n"
   ]
  },
  {
   "cell_type": "code",
   "execution_count": 7,
   "metadata": {
    "collapsed": false
   },
   "outputs": [
    {
     "name": "stdout",
     "output_type": "stream",
     "text": [
      "Accuracy: 91.81%\n"
     ]
    }
   ],
   "source": [
    "# Test\n",
    "ans = sess.run(accuracy, feed_dict={x: data.test.images, y_true: data.test.labels})\n",
    "\n",
    "print (\"Accuracy: {:.4}%\".format(ans*100))\n",
    "sess.close()"
   ]
  },
  {
   "cell_type": "markdown",
   "metadata": {},
   "source": [
    "## Adding summaries"
   ]
  },
  {
   "cell_type": "markdown",
   "metadata": {},
   "source": [
    "We'd like to visualize our TensorFlow graph, and plot metrics from the training process. For graph visualization, we add variable name scopes to define a hierarchy on nodes in the graph that is used by TensorBoard when displaying the graph. Summary operations are attached to nodes in the graph we are interested in plotting. "
   ]
  },
  {
   "cell_type": "code",
   "execution_count": 8,
   "metadata": {
    "collapsed": false
   },
   "outputs": [],
   "source": [
    "tf.reset_default_graph()\n",
    "sess = tf.InteractiveSession()\n",
    "with tf.name_scope('input_x'):\n",
    "    x = tf.placeholder(tf.float32, [None, 784])\n",
    "with tf.name_scope('input_label'):\n",
    "    y_true = tf.placeholder(tf.float32, [None, 10]) \n",
    "\n",
    "with tf.name_scope('input_reshape'):\n",
    "    image_shaped_input = tf.reshape(x, [-1, 28, 28, 1])\n",
    "    tf.summary.image('input', image_shaped_input, 10)\n",
    "with tf.name_scope('weights'):    \n",
    "    W = tf.Variable(tf.zeros([784, 10]))\n",
    "    with tf.name_scope('summaries'):\n",
    "      mean = tf.reduce_mean(W)\n",
    "      tf.summary.scalar('mean', mean)\n",
    "      tf.summary.histogram('histogram', W)\n",
    "with tf.name_scope('biases'):    \n",
    "    b = tf.Variable(tf.zeros([10]))\n",
    "    with tf.name_scope('summaries'):\n",
    "      mean = tf.reduce_mean(b)\n",
    "      tf.summary.scalar('mean', mean)\n",
    "      tf.summary.histogram('histogram', b)\n",
    "\n",
    "with tf.name_scope('Wx_b'):     \n",
    "    y_pred = tf.add(tf.matmul(x, W),b)\n",
    "    tf.summary.histogram('Wx_b', y_pred)\n",
    "\n",
    "with tf.name_scope('loss'): \n",
    "    cross_entropy = tf.reduce_mean(tf.nn.softmax_cross_entropy_with_logits(logits = y_pred, labels = y_true))\n",
    "    tf.summary.scalar('loss', cross_entropy)\n",
    "with tf.name_scope('train'):\n",
    "    gd_step = tf.train.GradientDescentOptimizer(0.5).minimize(cross_entropy)\n",
    "\n",
    "with tf.name_scope('correct_pred'):\n",
    "        correct_mask = tf.equal(tf.argmax(y_pred, 1), tf.argmax(y_true, 1))\n",
    "with tf.name_scope('accuracy'):\n",
    "  accuracy = tf.reduce_mean(tf.cast(correct_mask, tf.float32))\n"
   ]
  },
  {
   "cell_type": "markdown",
   "metadata": {},
   "source": [
    "We next merge all the summaries into one op, generating a serialized object with all summary data at a given step. This serialized object is passed to a FileWriter, which writes the data to disk. FileWriter takes a logdir, which is the path to the folder we save all data. If given a TensorFlow graph object, FileWriter will also create a very useful visualization of our computation graph."
   ]
  },
  {
   "cell_type": "code",
   "execution_count": 9,
   "metadata": {
    "collapsed": false
   },
   "outputs": [],
   "source": [
    "# Merge all the summaries and write them out to LOG_DIR\n",
    "merged = tf.summary.merge_all()\n",
    "train_writer = tf.summary.FileWriter(os.path.join(DATA_DIR,\"logs\\\\train\"), sess.graph)\n",
    "test_writer = tf.summary.FileWriter(os.path.join(DATA_DIR,\"logs\\\\test\"))"
   ]
  },
  {
   "cell_type": "code",
   "execution_count": 10,
   "metadata": {
    "collapsed": false
   },
   "outputs": [
    {
     "name": "stdout",
     "output_type": "stream",
     "text": [
      "Accuracy at step 0: 0.098\n",
      "Accuracy at step 10: 0.7978\n",
      "Accuracy at step 20: 0.8178\n",
      "Accuracy at step 30: 0.859\n",
      "Accuracy at step 40: 0.8544\n",
      "Accuracy at step 50: 0.88\n",
      "Accuracy at step 60: 0.8865\n",
      "Accuracy at step 70: 0.8826\n",
      "Accuracy at step 80: 0.8885\n",
      "Accuracy at step 90: 0.8859\n",
      "Accuracy at step 100: 0.895\n",
      "Accuracy at step 110: 0.8933\n",
      "Accuracy at step 120: 0.8974\n",
      "Accuracy at step 130: 0.8982\n",
      "Accuracy at step 140: 0.8971\n",
      "Accuracy at step 150: 0.9037\n",
      "Accuracy at step 160: 0.8952\n",
      "Accuracy at step 170: 0.8963\n",
      "Accuracy at step 180: 0.8978\n",
      "Accuracy at step 190: 0.9037\n",
      "Accuracy at step 200: 0.901\n",
      "Accuracy at step 210: 0.9013\n",
      "Accuracy at step 220: 0.8851\n",
      "Accuracy at step 230: 0.9027\n",
      "Accuracy at step 240: 0.9005\n",
      "Accuracy at step 250: 0.9074\n",
      "Accuracy at step 260: 0.907\n",
      "Accuracy at step 270: 0.9076\n",
      "Accuracy at step 280: 0.8999\n",
      "Accuracy at step 290: 0.9079\n",
      "Accuracy at step 300: 0.9081\n",
      "Accuracy at step 310: 0.9023\n",
      "Accuracy at step 320: 0.9079\n",
      "Accuracy at step 330: 0.9122\n",
      "Accuracy at step 340: 0.9101\n",
      "Accuracy at step 350: 0.91\n",
      "Accuracy at step 360: 0.9099\n",
      "Accuracy at step 370: 0.906\n",
      "Accuracy at step 380: 0.9046\n",
      "Accuracy at step 390: 0.9113\n",
      "Accuracy at step 400: 0.9125\n",
      "Accuracy at step 410: 0.9107\n",
      "Accuracy at step 420: 0.9132\n",
      "Accuracy at step 430: 0.9117\n",
      "Accuracy at step 440: 0.9089\n",
      "Accuracy at step 450: 0.9104\n",
      "Accuracy at step 460: 0.915\n",
      "Accuracy at step 470: 0.9066\n",
      "Accuracy at step 480: 0.9141\n",
      "Accuracy at step 490: 0.9113\n",
      "Accuracy at step 500: 0.9079\n",
      "Accuracy at step 510: 0.9065\n",
      "Accuracy at step 520: 0.91\n",
      "Accuracy at step 530: 0.913\n",
      "Accuracy at step 540: 0.9149\n",
      "Accuracy at step 550: 0.9165\n",
      "Accuracy at step 560: 0.917\n",
      "Accuracy at step 570: 0.9149\n",
      "Accuracy at step 580: 0.9159\n",
      "Accuracy at step 590: 0.9156\n",
      "Accuracy at step 600: 0.9168\n",
      "Accuracy at step 610: 0.9171\n",
      "Accuracy at step 620: 0.9098\n",
      "Accuracy at step 630: 0.9181\n",
      "Accuracy at step 640: 0.9159\n",
      "Accuracy at step 650: 0.9174\n",
      "Accuracy at step 660: 0.9173\n",
      "Accuracy at step 670: 0.9156\n",
      "Accuracy at step 680: 0.9153\n",
      "Accuracy at step 690: 0.9173\n",
      "Accuracy at step 700: 0.915\n",
      "Accuracy at step 710: 0.9145\n",
      "Accuracy at step 720: 0.9161\n",
      "Accuracy at step 730: 0.9171\n",
      "Accuracy at step 740: 0.9148\n",
      "Accuracy at step 750: 0.9182\n",
      "Accuracy at step 760: 0.9183\n",
      "Accuracy at step 770: 0.9155\n",
      "Accuracy at step 780: 0.9158\n",
      "Accuracy at step 790: 0.9166\n",
      "Accuracy at step 800: 0.9182\n",
      "Accuracy at step 810: 0.914\n",
      "Accuracy at step 820: 0.9118\n",
      "Accuracy at step 830: 0.9141\n",
      "Accuracy at step 840: 0.9126\n",
      "Accuracy at step 850: 0.9158\n",
      "Accuracy at step 860: 0.9181\n",
      "Accuracy at step 870: 0.9166\n",
      "Accuracy at step 880: 0.9127\n",
      "Accuracy at step 890: 0.914\n",
      "Accuracy at step 900: 0.9142\n",
      "Accuracy at step 910: 0.917\n",
      "Accuracy at step 920: 0.9137\n",
      "Accuracy at step 930: 0.9154\n",
      "Accuracy at step 940: 0.9182\n",
      "Accuracy at step 950: 0.918\n",
      "Accuracy at step 960: 0.9174\n",
      "Accuracy at step 970: 0.9126\n",
      "Accuracy at step 980: 0.9161\n",
      "Accuracy at step 990: 0.9203\n"
     ]
    }
   ],
   "source": [
    "# Train\n",
    "sess.run(tf.global_variables_initializer())\n",
    "\n",
    "for i in range(NUM_STEPS):\n",
    "    if i % 10 == 0:  # Record summaries and test-set accuracy\n",
    "      summary, acc = sess.run([merged, accuracy], feed_dict={x: data.test.images, y_true: data.test.labels})\n",
    "      test_writer.add_summary(summary, i)\n",
    "      print('Accuracy at step %s: %s' % (i, acc))\n",
    "    else:\n",
    "        batch_xs, batch_ys = data.train.next_batch(MINIBATCH_SIZE)\n",
    "        summary, _ = sess.run([merged, gd_step], feed_dict={x: batch_xs, y_true: batch_ys})\n",
    "        train_writer.add_summary(summary, i)\n",
    "train_writer.close()\n",
    "test_writer.close()        "
   ]
  },
  {
   "cell_type": "markdown",
   "metadata": {},
   "source": [
    "Run the command line: tensorboard --logdir=DATA_DIR [replace DATA_DIR with your path]"
   ]
  },
  {
   "cell_type": "markdown",
   "metadata": {},
   "source": [
    "## Quick hands-on"
   ]
  },
  {
   "cell_type": "markdown",
   "metadata": {
    "collapsed": true
   },
   "source": [
    "Take TensorBoard for a spin:\n",
    "\n",
    "* Add some more types of summaries (you'll need to use the suitable TensorFlow ops that you saw earlier!):\n",
    "    * Max\n",
    "    * Min\n",
    "    * Standard deviation\n",
    "    \n",
    "* Run and check out results\n",
    "\n",
    "If you have time:\n",
    "* Add another layer to the network (a 2-layer neural net), and check out how graph changes\n",
    "\n"
   ]
  }
 ],
 "metadata": {
  "anaconda-cloud": {},
  "kernelspec": {
   "display_name": "Python [default]",
   "language": "python",
   "name": "python3"
  },
  "language_info": {
   "codemirror_mode": {
    "name": "ipython",
    "version": 3
   },
   "file_extension": ".py",
   "mimetype": "text/x-python",
   "name": "python",
   "nbconvert_exporter": "python",
   "pygments_lexer": "ipython3",
   "version": "3.5.2"
  }
 },
 "nbformat": 4,
 "nbformat_minor": 1
}
