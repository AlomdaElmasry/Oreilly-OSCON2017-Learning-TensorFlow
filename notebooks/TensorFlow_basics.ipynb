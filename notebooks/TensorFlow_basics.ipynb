{
 "cells": [
  {
   "cell_type": "markdown",
   "metadata": {},
   "source": [
    "<img src=\"./img/oscon.png\" width=\"400\">"
   ]
  },
  {
   "cell_type": "code",
   "execution_count": 6,
   "metadata": {
    "collapsed": false
   },
   "outputs": [
    {
     "data": {
      "text/plain": [
       "'1.0.1'"
      ]
     },
     "execution_count": 6,
     "metadata": {},
     "output_type": "execute_result"
    }
   ],
   "source": [
    "import tensorflow as tf\n",
    "tf.__version__"
   ]
  },
  {
   "cell_type": "markdown",
   "metadata": {},
   "source": [
    "\n",
    "# Computational graphs\n",
    "In TensorFlow, each of the graph's nodes represent an operation, possibly applied to some input, and can generate an output that is passed on to other nodes. \n",
    "\n"
   ]
  },
  {
   "cell_type": "markdown",
   "metadata": {},
   "source": [
    "# Graph examples\n",
    "\n",
    "\n",
    "Operations in the graph include all kinds of functions, from simple arithmetic ones such as subtraction and multiplication, to more complex ones as we will see later on. They also include more general operations like the creation of constant values.\n",
    "\n",
    "Creating operations is simple:\n",
    "~~~python \n",
    "tf.<node does what> \n",
    "~~~"
   ]
  },
  {
   "cell_type": "markdown",
   "metadata": {},
   "source": [
    "# Fibonacci sequence\n",
    "# $$F_n=F_{n-1}+ F_{n-2}$$\n",
    "## $$F_0 = 0, F_1 = 1 $$\n",
    "\n",
    "<img src=\"./img/fibonacci.png\" width=\"800\">"
   ]
  },
  {
   "cell_type": "code",
   "execution_count": 1,
   "metadata": {
    "collapsed": false
   },
   "outputs": [
    {
     "name": "stdout",
     "output_type": "stream",
     "text": [
      "Output is 5\n"
     ]
    }
   ],
   "source": [
    "import tensorflow as tf\n",
    "\n",
    "# A default graph was created!\n",
    "\n",
    "a = tf.constant(0) # input of 0\n",
    "b = tf.constant(1) # input of 1\n",
    "c = tf.add(a,b) # 1\n",
    "d = tf.add(b,c) # 2\n",
    "e = tf.add(c,d) # 3\n",
    "f = tf.add(d,e) # 5\n",
    "\n",
    "sess = tf.Session()\n",
    "outs = sess.run(f)\n",
    "sess.close()\n",
    "\n",
    "print 'Output is {}'.format(outs)"
   ]
  },
  {
   "cell_type": "markdown",
   "metadata": {},
   "source": [
    "## Dot product:\n",
    "# $$y=w_0x_0+w_1x_1+w_2x_2$$\n",
    "\n",
    "<img src=\"./img/1d_filter.png\" width=\"600\">"
   ]
  },
  {
   "cell_type": "code",
   "execution_count": 13,
   "metadata": {
    "collapsed": false
   },
   "outputs": [
    {
     "name": "stdout",
     "output_type": "stream",
     "text": [
      "Output is -23\n"
     ]
    }
   ],
   "source": [
    "x_0 = tf.constant(2) \n",
    "x_1 = tf.constant(-3) \n",
    "x_2 = tf.constant(2) \n",
    "\n",
    "w_0 = tf.constant(4) \n",
    "w_1 = tf.constant(7) \n",
    "w_2 = tf.constant(-5) \n",
    "\n",
    "wx_0 = tf.multiply(x_0,w_0) # x_0*w_0\n",
    "wx_1 = tf.multiply(x_1,w_1) # x_1*w_1\n",
    "wx_2 = tf.multiply(x_2,w_2) # x_2*w_2\n",
    "\n",
    "wx_0_1 = tf.add(wx_0,wx_1) # -wx_0 + wx_1\n",
    "wx_0_1_2 = tf.add(wx_0_1,wx_2) # wx_0_1 + wx_2\n",
    "\n",
    "\n",
    "sess = tf.Session()\n",
    "outs = sess.run(wx_0_1_2)\n",
    "sess.close()\n",
    "\n",
    "print 'Output is {}'.format(outs)"
   ]
  },
  {
   "cell_type": "markdown",
   "metadata": {},
   "source": [
    "Working with TensorFlow involves two main phases: constructing a graph and executing it.\n"
   ]
  },
  {
   "cell_type": "markdown",
   "metadata": {},
   "source": [
    "# Session\n",
    "Session object is the part of the TensorFlow API that communicates between\n",
    "Python objects and data on our end, and the actual computational system where\n",
    "memory is allocated for the objects we define, intermediate variables are stored, and\n",
    "finally results are fetched for us."
   ]
  },
  {
   "cell_type": "code",
   "execution_count": 172,
   "metadata": {
    "collapsed": true
   },
   "outputs": [],
   "source": [
    "# Graph architecture\n",
    "a = tf.constant(0) # input of 0\n",
    "b = tf.constant(1) # input of 1\n",
    "c = tf.add(a,b) # 1\n",
    "d = tf.add(b,c) # 2\n",
    "e = tf.add(c,d) # 3\n",
    "f = tf.add(d,e) # 5"
   ]
  },
  {
   "cell_type": "markdown",
   "metadata": {},
   "source": [
    "### Option 1:\n",
    "\n",
    "~~~python \n",
    "tf.Session()\n",
    "~~~"
   ]
  },
  {
   "cell_type": "code",
   "execution_count": 176,
   "metadata": {
    "collapsed": false
   },
   "outputs": [
    {
     "name": "stdout",
     "output_type": "stream",
     "text": [
      "Output is 5\n"
     ]
    }
   ],
   "source": [
    "# Start a session and run\n",
    "# option 1\n",
    "\n",
    "sess = tf.Session()\n",
    "outs = sess.run(f)\n",
    "sess.close()\n",
    "\n",
    "print 'Output is {}'.format(outs)"
   ]
  },
  {
   "cell_type": "markdown",
   "metadata": {},
   "source": [
    "### Option 2:\n",
    "\n",
    "~~~python \n",
    "with tf.Session()\n",
    "~~~"
   ]
  },
  {
   "cell_type": "code",
   "execution_count": 174,
   "metadata": {
    "collapsed": false
   },
   "outputs": [
    {
     "name": "stdout",
     "output_type": "stream",
     "text": [
      "Output is 5\n"
     ]
    }
   ],
   "source": [
    "# option 2\n",
    "\n",
    "with tf.Session() as sess:\n",
    "    outs = sess.run(f)\n",
    "\n",
    "print 'Output is {}'.format(outs)"
   ]
  },
  {
   "cell_type": "markdown",
   "metadata": {},
   "source": [
    "### Option 3:\n",
    "\n",
    "~~~python \n",
    "tf.InteractiveSession()\n",
    "~~~"
   ]
  },
  {
   "cell_type": "code",
   "execution_count": 175,
   "metadata": {
    "collapsed": false
   },
   "outputs": [
    {
     "name": "stdout",
     "output_type": "stream",
     "text": [
      "Output is 5\n"
     ]
    }
   ],
   "source": [
    "# option 3\n",
    "\n",
    "sess = tf.InteractiveSession()\n",
    "outs = sess.run(f)\n",
    "sess.close()\n",
    "\n",
    "print 'Output is {}'.format(outs)"
   ]
  },
  {
   "cell_type": "markdown",
   "metadata": {},
   "source": [
    "# NumPy\n",
    "NumPy is a popular and useful Python package for numerical computing. The two packages - TensorFlow and NumPy are tightly coupled - for example, the output returned by sess.run() is a NumPy array. "
   ]
  },
  {
   "cell_type": "code",
   "execution_count": 121,
   "metadata": {
    "collapsed": false
   },
   "outputs": [
    {
     "name": "stdout",
     "output_type": "stream",
     "text": [
      "array a:\n",
      "[[1 2]\n",
      " [3 4]\n",
      " [5 6]]\n",
      "==============================\n",
      "shape of a:\n",
      "(3, 2)\n"
     ]
    }
   ],
   "source": [
    "import numpy as np\n",
    "a = np.array([[1,2],[3,4],[5,6]])\n",
    "print('array a:\\n{}'.format(a))\n",
    "print('==============================')\n",
    "# in numpy we use shape instead of len as with a regular python list\n",
    "print('shape of a:\\n{}'.format(a.shape))"
   ]
  },
  {
   "cell_type": "markdown",
   "metadata": {},
   "source": [
    "# Fetches\n",
    "We can ask the sess.run() command for\n",
    "other node outputs simply by inputting a list of requested nodes. The argument we\n",
    "use for this request is called the ‘fetches’ argument."
   ]
  },
  {
   "cell_type": "code",
   "execution_count": 179,
   "metadata": {
    "collapsed": false
   },
   "outputs": [
    {
     "name": "stdout",
     "output_type": "stream",
     "text": [
      "Output is [0, 1, 1, 2, 3, 5]\n",
      "<type 'list'>\n",
      "<type 'numpy.int32'>\n"
     ]
    }
   ],
   "source": [
    "sess = tf.Session()\n",
    "fetches = [a,b,c,d,e,f]\n",
    "outs = sess.run(fetches)\n",
    "sess.close()\n",
    "\n",
    "print 'Output is {}'.format(outs)\n",
    "print type(outs)\n",
    "print type(outs[0])"
   ]
  },
  {
   "cell_type": "markdown",
   "metadata": {},
   "source": [
    "# Hands-on .1\n",
    "\n",
    "<img src=\"./img/hands_on_1.png\" width=\"6000\">"
   ]
  },
  {
   "cell_type": "markdown",
   "metadata": {},
   "source": [
    "# tensor arrays"
   ]
  },
  {
   "cell_type": "code",
   "execution_count": 112,
   "metadata": {
    "collapsed": false
   },
   "outputs": [
    {
     "name": "stdout",
     "output_type": "stream",
     "text": [
      "(2, 3, 3)\n"
     ]
    }
   ],
   "source": [
    "# 3d array\n",
    "a = np.array([ \n",
    "            [[1,2,3],\\\n",
    "             [1,2,3],\\\n",
    "             [1,2,3]],\\\n",
    "        \n",
    "              [[3,2,1],\\\n",
    "               [3,2,1],\\\n",
    "               [3,2,1]] \n",
    "             ])\n",
    "print a.shape"
   ]
  },
  {
   "cell_type": "markdown",
   "metadata": {},
   "source": [
    "# shape, dtype and name"
   ]
  },
  {
   "cell_type": "code",
   "execution_count": 210,
   "metadata": {
    "collapsed": false
   },
   "outputs": [],
   "source": [
    "a = [[1,2],[3,4]]\n",
    "# Assigning attributes explicitly\n",
    "x = tf.constant(a,name='a',dtype=tf.float32) "
   ]
  },
  {
   "cell_type": "code",
   "execution_count": 114,
   "metadata": {
    "collapsed": false
   },
   "outputs": [
    {
     "name": "stdout",
     "output_type": "stream",
     "text": [
      "(2, 2)\n"
     ]
    }
   ],
   "source": [
    "print(x.get_shape())"
   ]
  },
  {
   "cell_type": "markdown",
   "metadata": {},
   "source": [
    "Tensor names are generated from the name of the operation that produces them (a Variable op in this case) and the index of the output to which that tensor corresponds."
   ]
  },
  {
   "cell_type": "code",
   "execution_count": 115,
   "metadata": {
    "collapsed": false
   },
   "outputs": [
    {
     "name": "stdout",
     "output_type": "stream",
     "text": [
      "a_1:0\n"
     ]
    }
   ],
   "source": [
    "print(x.name)"
   ]
  },
  {
   "cell_type": "markdown",
   "metadata": {},
   "source": [
    "It's important to make sure our data types\n",
    "match throughout the graph — performing an operation with two non-matching\n",
    "data types will result in an exception."
   ]
  },
  {
   "cell_type": "code",
   "execution_count": 211,
   "metadata": {
    "collapsed": false
   },
   "outputs": [
    {
     "name": "stdout",
     "output_type": "stream",
     "text": [
      "<dtype: 'float32'>\n"
     ]
    }
   ],
   "source": [
    "print(x.dtype)"
   ]
  },
  {
   "cell_type": "markdown",
   "metadata": {},
   "source": [
    "## Cast\n",
    "Casts a tensor to a new type."
   ]
  },
  {
   "cell_type": "code",
   "execution_count": 216,
   "metadata": {
    "collapsed": false
   },
   "outputs": [
    {
     "name": "stdout",
     "output_type": "stream",
     "text": [
      "<dtype: 'int64'>\n"
     ]
    }
   ],
   "source": [
    "x = tf.cast(x,np.int64)\n",
    "print(x.dtype)"
   ]
  },
  {
   "cell_type": "markdown",
   "metadata": {},
   "source": [
    "# Name scopes\n",
    "Sometimes when dealing with large complicated graphs, we would like to create some node grouping to make it easier to follow and manage. "
   ]
  },
  {
   "cell_type": "code",
   "execution_count": 117,
   "metadata": {
    "collapsed": false
   },
   "outputs": [
    {
     "name": "stdout",
     "output_type": "stream",
     "text": [
      "c:0\n",
      "prefix_name/c:0\n",
      "prefix_name/c_1:0\n"
     ]
    }
   ],
   "source": [
    "with tf.Graph().as_default():\n",
    "    c1 = tf.constant(4,dtype=tf.float64,name='c') \n",
    "    with tf.name_scope(\"prefix_name\"):\n",
    "        c2 = tf.constant(4,dtype=tf.int32,name='c') \n",
    "        c3 = tf.constant(4,dtype=tf.float64,name='c')\n",
    "\n",
    "print c1.name\n",
    "print c2.name\n",
    "print c3.name"
   ]
  },
  {
   "cell_type": "markdown",
   "metadata": {},
   "source": [
    "# Initializers"
   ]
  },
  {
   "cell_type": "markdown",
   "metadata": {
    "collapsed": true
   },
   "source": [
    "# Constant and random Initializers "
   ]
  },
  {
   "cell_type": "code",
   "execution_count": 123,
   "metadata": {
    "collapsed": false
   },
   "outputs": [
    {
     "name": "stdout",
     "output_type": "stream",
     "text": [
      "constant initializer:\n",
      " [[1 2]\n",
      " [3 4]\n",
      " [5 6]]\n"
     ]
    }
   ],
   "source": [
    "import matplotlib.pyplot as plt\n",
    "\n",
    "sess = tf.InteractiveSession()\n",
    "\n",
    "a = np.array([[1,2],[3,4],[5,6]])\n",
    "\n",
    "x = tf.constant(a)\n",
    "print('constant initializer:\\n {}').format(x.eval())"
   ]
  },
  {
   "cell_type": "code",
   "execution_count": 124,
   "metadata": {
    "collapsed": false
   },
   "outputs": [
    {
     "name": "stdout",
     "output_type": "stream",
     "text": [
      "fill initializer:\n",
      " [[1 1]\n",
      " [1 1]\n",
      " [1 1]]\n"
     ]
    }
   ],
   "source": [
    "x = tf.fill(a.shape,1)\n",
    "print('fill initializer:\\n {}').format(x.eval())"
   ]
  },
  {
   "cell_type": "code",
   "execution_count": 125,
   "metadata": {
    "collapsed": false
   },
   "outputs": [
    {
     "name": "stdout",
     "output_type": "stream",
     "text": [
      "fill initializer:\n",
      " [[ 0.  0.]\n",
      " [ 0.  0.]\n",
      " [ 0.  0.]]\n"
     ]
    }
   ],
   "source": [
    "x = tf.zeros(a.shape)\n",
    "print('fill initializer:\\n {}').format(x.eval())\n"
   ]
  },
  {
   "cell_type": "code",
   "execution_count": 131,
   "metadata": {
    "collapsed": false
   },
   "outputs": [],
   "source": [
    "\n",
    "# === Noramal and Truncated normal distributions ===\n",
    "mean = 0\n",
    "std = 1\n",
    "x_normal = tf.random_normal((1,50000),mean,std).eval()\n",
    "x_truncated = tf.truncated_normal((1,50000),mean,std).eval()\n",
    "\n",
    "# === Uniform distribution\n",
    "minval = -2 \n",
    "maxval = 2\n",
    "x_uniform = tf.random_uniform((1,50000),minval,maxval).eval()\n",
    "\n",
    "session.close()\n",
    "\n"
   ]
  },
  {
   "cell_type": "code",
   "execution_count": 132,
   "metadata": {
    "collapsed": false
   },
   "outputs": [
    {
     "name": "stdout",
     "output_type": "stream",
     "text": [
      "(1, 50000)\n"
     ]
    },
    {
     "data": {
      "image/png": "[encoded data removed]",
      "text/plain": [
       "<matplotlib.figure.Figure at 0x7f8b381b9490>"
      ]
     },
     "metadata": {},
     "output_type": "display_data"
    }
   ],
   "source": [
    "f,axarr = plt.subplots(1,3,figsize=[15,4])\n",
    "titles = ['Normal','Truncated Normal','Uniform']\n",
    "\n",
    "print(x_normal.shape)\n",
    "for i,x in enumerate([x_normal,x_truncated,x_uniform]):\n",
    "    ax = axarr[i]\n",
    "    ax.hist(x[0],bins=100,color='b',alpha=0.4)\n",
    "    ax.set_title(titles[i],fontsize=20)\n",
    "    ax.set_xlabel('Values',fontsize=20)\n",
    "    ax.set_ylabel('Frequency',fontsize=20)\n",
    "    ax.set_xlim([-5,5])\n",
    "plt.suptitle('Initialized values',fontsize=30, y=1.15)\n",
    "plt.tight_layout()\n",
    "plt.show()"
   ]
  },
  {
   "cell_type": "markdown",
   "metadata": {},
   "source": [
    "# Useful operations"
   ]
  },
  {
   "cell_type": "markdown",
   "metadata": {},
   "source": [
    "## Reduce\n",
    "Operations that you can use to perform common math computations that reduce various dimensions of a tensor\n",
    "~~~python \n",
    "tf.reduce_mean()\n",
    "tf.reduce_sum()\n",
    "tf.reduce_min()\n",
    "tf.reduce_max()\n",
    "tf.reduce_prod()\n",
    "tf.reduce_mean()\n",
    "\n",
    "~~~\n"
   ]
  },
  {
   "cell_type": "code",
   "execution_count": 230,
   "metadata": {
    "collapsed": false
   },
   "outputs": [
    {
     "name": "stdout",
     "output_type": "stream",
     "text": [
      "maximum value:\n",
      " 6\n"
     ]
    }
   ],
   "source": [
    "import matplotlib.pyplot as plt\n",
    "\n",
    "sess = tf.InteractiveSession()\n",
    "\n",
    "a = tf.constant([ [1,2,3],\n",
    "              [4,5,6] ])\n",
    "\n",
    "x = tf.reduce_max(a)\n",
    "print('maximum value:\\n {}').format(x.eval())"
   ]
  },
  {
   "cell_type": "markdown",
   "metadata": {},
   "source": [
    "~~~python \n",
    "reduction_indices\n",
    "~~~\n",
    "Is the dimensions to reduce. If None (the default), reduces all dimensions"
   ]
  },
  {
   "cell_type": "code",
   "execution_count": 231,
   "metadata": {
    "collapsed": false
   },
   "outputs": [
    {
     "name": "stdout",
     "output_type": "stream",
     "text": [
      "maximum column values:\n",
      " [4 5 6]\n"
     ]
    }
   ],
   "source": [
    "x = tf.reduce_max(a,reduction_indices=0)\n",
    "print('maximum column values:\\n {}').format(x.eval())"
   ]
  },
  {
   "cell_type": "code",
   "execution_count": 232,
   "metadata": {
    "collapsed": false
   },
   "outputs": [
    {
     "name": "stdout",
     "output_type": "stream",
     "text": [
      "maximum row values:\n",
      " [3 6]\n"
     ]
    }
   ],
   "source": [
    "x = tf.reduce_max(a,reduction_indices=1)\n",
    "print('maximum row values:\\n {}').format(x.eval())"
   ]
  },
  {
   "cell_type": "markdown",
   "metadata": {},
   "source": [
    "## matmul, expand_dims and transpose"
   ]
  },
  {
   "cell_type": "code",
   "execution_count": 245,
   "metadata": {
    "collapsed": false
   },
   "outputs": [],
   "source": [
    "a = tf.constant([ [1,2,3],\n",
    "              [4,5,6] ])\n",
    "\n",
    "b = tf.constant([1,0,1])\n",
    "\n",
    "# print('maximum value:\\n {}').format(x.eval())"
   ]
  },
  {
   "cell_type": "code",
   "execution_count": 242,
   "metadata": {
    "collapsed": false
   },
   "outputs": [
    {
     "name": "stdout",
     "output_type": "stream",
     "text": [
      "(2, 3)\n",
      "(3,)\n"
     ]
    }
   ],
   "source": [
    "print(a.get_shape())\n",
    "print(b.get_shape())"
   ]
  },
  {
   "cell_type": "code",
   "execution_count": 246,
   "metadata": {
    "collapsed": false
   },
   "outputs": [
    {
     "name": "stdout",
     "output_type": "stream",
     "text": [
      "(1, 3)\n"
     ]
    }
   ],
   "source": [
    "b = tf.expand_dims(b,0)\n",
    "print(b.get_shape())"
   ]
  },
  {
   "cell_type": "code",
   "execution_count": 248,
   "metadata": {
    "collapsed": false
   },
   "outputs": [
    {
     "name": "stdout",
     "output_type": "stream",
     "text": [
      "matmul result:\n",
      " [[ 4]\n",
      " [10]]\n"
     ]
    }
   ],
   "source": [
    "x = tf.matmul(a,tf.transpose(b))\n",
    "print('matmul result:\\n {}').format(x.eval())"
   ]
  },
  {
   "cell_type": "markdown",
   "metadata": {},
   "source": [
    "# Hands-on .2\n",
    "\n",
    "<img src=\"./img/hands_on_2_a.png\" width=\"500\">"
   ]
  },
  {
   "cell_type": "markdown",
   "metadata": {},
   "source": [
    "# Variables\n",
    "Variables, unlike other Tensor objects that are “refilled” across calls to run(), can maintain a fixed state in the graph."
   ]
  },
  {
   "cell_type": "code",
   "execution_count": 189,
   "metadata": {
    "collapsed": false
   },
   "outputs": [
    {
     "name": "stdout",
     "output_type": "stream",
     "text": [
      "pre-run variable:\n",
      "Tensor(\"x_2/read:0\", shape=(), dtype=int32)\n",
      "===============================\n",
      "pre-run variable:\n",
      "75\n"
     ]
    }
   ],
   "source": [
    "c = tf.constant(15, name='c')\n",
    "x = tf.Variable(c*5, name='x')\n",
    "init = tf.global_variables_initializer()\n",
    "print('pre-run variable:\\n{}'.format(x))\n",
    "print('===============================')\n",
    "with tf.Session() as sess:\n",
    "    sess.run(init)\n",
    "    val = sess.run(x)\n",
    "    print('pre-run variable:\\n{}'.format(val))\n"
   ]
  },
  {
   "cell_type": "markdown",
   "metadata": {},
   "source": [
    "we have to explicitly perform an initialization operation by running the session with the tf.initialize_all_variables() method, which allocates the memory for the variable and sets\n",
    "the initial value."
   ]
  },
  {
   "cell_type": "markdown",
   "metadata": {},
   "source": [
    "# Variable sharing"
   ]
  },
  {
   "cell_type": "markdown",
   "metadata": {},
   "source": [
    "It's possible to reuse the same variables by applying tf.get_variables() instead of tf.Variable(). We use it very similarly to tf.Variable(), only that we need to pass the value through an initializer and not directly."
   ]
  },
  {
   "cell_type": "markdown",
   "metadata": {},
   "source": [
    "# Placeholders"
   ]
  },
  {
   "cell_type": "markdown",
   "metadata": {},
   "source": [
    "TensorFlow has designated built-in structures for feeding input values. Placeholders can be thought of as empty variables that will be filled with data later on. We use them by first constructing our graph and only\n",
    "when it is executed feed them with the input data.\n"
   ]
  },
  {
   "cell_type": "markdown",
   "metadata": {},
   "source": [
    "# Feeds"
   ]
  },
  {
   "cell_type": "markdown",
   "metadata": {},
   "source": [
    "TensorFlow's feed mechanism lets you inject data into any Tensor in a computation graph. A python computation can thus feed data directly into the graph. The input data is given as a dictionary, where each key corresponds to a placeholder variable name, and the matching values are the data values given in the form of a list or a numpy array. "
   ]
  },
  {
   "cell_type": "code",
   "execution_count": 139,
   "metadata": {
    "collapsed": false
   },
   "outputs": [
    {
     "name": "stdout",
     "output_type": "stream",
     "text": [
      "(100, 10)\n"
     ]
    }
   ],
   "source": [
    "x_data = np.random.randn(100,10)\n",
    "y_data = np.random.randn(100)\n",
    "\n",
    "with tf.Graph().as_default():\n",
    "    x = tf.placeholder(np.float32,shape=(None,10))\n",
    "    y = tf.placeholder(np.float32,shape=(None))\n",
    "    with tf.Session() as sess:\n",
    "        outs = sess.run(x,feed_dict={x: x_data,y: y_data})\n",
    "        \n",
    "print(outs.shape)"
   ]
  },
  {
   "cell_type": "markdown",
   "metadata": {},
   "source": [
    "# Optimization\n",
    "\n",
    "Our training data points will be used for \"tuning\" the model so that it best captures the relation between our feature vectors x and our target y.\n",
    "\n",
    "<img src=\"./img/optimization.png\" width=\"600\">"
   ]
  },
  {
   "cell_type": "markdown",
   "metadata": {},
   "source": [
    "# Defining a loss function\n",
    "To capture the discrepancy between our model’s predictions and observed targets, we need a measure that reflects the “distance” between the observed y and predicted y. This distance is often referred to as a “loss” function, and we optimize the model by finding the set of parameters (weights) that minimize it.\n"
   ]
  },
  {
   "cell_type": "markdown",
   "metadata": {},
   "source": [
    "### Least squares\n",
    "(Linear Regression likelihood):\n",
    "\n",
    "# $$L(y,\\hat{y})=\\Sigma_i(y_i-\\hat{y}_i)^2$$\n",
    "\n",
    "~~~python \n",
    "loss = tf.reduce_mean(tf.square(y_true-y_pred))\n",
    "~~~\n",
    "\n",
    "\n",
    "### Cross entropy (classification problems)\n",
    "(Logistic Regression likelihood):\n",
    "\n",
    "# $$H(p,q)=-\\Sigma_x{p(x) \\log q(x)}$$\n",
    "\n",
    "~~~python \n",
    "\n",
    "loss = - y_true * tf.log(tf.sigmoid(y_pred)) - (1.0 - y_true) * tf.log(1.0 - tf.sigmoid(y_pred))\n",
    "### instead we can use\n",
    "loss = tf.nn.sigmoid_cross_entropy_with_logits(labels=y_true,logits=y_pred) \n",
    "\n",
    "loss = tf.reduce_mean(loss)\n",
    "~~~\n"
   ]
  },
  {
   "cell_type": "markdown",
   "metadata": {},
   "source": [
    "# Denfining an optimizer\n",
    "Optimizers update the set of weights iteratively in a way that lowers the loss over time.\n",
    "We first create an optimizer function with the desired parameters, such as the learning rate. We then create a train operation that updates our variables and pass in the loss as an argument. "
   ]
  },
  {
   "cell_type": "markdown",
   "metadata": {},
   "source": [
    "~~~python \n",
    "optimizer = tf.train.GradientDescentOptimizer(learning_rate=0.5)\n",
    "train = optimizer.minimize(loss)\n",
    "~~~"
   ]
  },
  {
   "cell_type": "markdown",
   "metadata": {},
   "source": [
    "# Optimization example\n",
    "## Logistic regression:\n",
    "\n",
    "# $$Pr(y_i=1|x_i)={1\\over{1+\\exp^{wx_i+b}} }$$\n"
   ]
  },
  {
   "cell_type": "code",
   "execution_count": 184,
   "metadata": {
    "collapsed": false
   },
   "outputs": [],
   "source": [
    "import numpy as np\n",
    "N = 10000\n",
    "\n",
    "# generate data\n",
    "\n",
    "def sigmoid(x):\n",
    "    return 1 / (1 + np.exp(-x))\n",
    "# === Create data and simulate results =====\n",
    "x_data = np.random.randn(N,3)\n",
    "w_real = [0.3,0.5,0.1]\n",
    "b_real = -0.2\n",
    "wxb = np.matmul(w_real,x_data.T) + b_real\n",
    "\n",
    "y_data_pre_noise = sigmoid(wxb)\n",
    "y_data = np.random.binomial(1,y_data_pre_noise)"
   ]
  },
  {
   "cell_type": "code",
   "execution_count": 181,
   "metadata": {
    "collapsed": false
   },
   "outputs": [
    {
     "data": {
      "image/png": "[encoded data removed]",
      "text/plain": [
       "<matplotlib.figure.Figure at 0x7f8af278c050>"
      ]
     },
     "metadata": {},
     "output_type": "display_data"
    }
   ],
   "source": [
    "# plot\n",
    "\n",
    "f,axarr = plt.subplots(2,2,figsize=[7,5])\n",
    "ax = axarr[0,0]\n",
    "ax.plot(wxb,y_data_pre_noise,'o',ms=3,alpha=0.005)\n",
    "ax.plot([0,0],[0,1],'k--')\n",
    "\n",
    "ax.set_xlim([-3,3])\n",
    "ax.set_title('Y pre-noise',fontsize=20)\n",
    "ax.set_ylabel('Y Values',fontsize=15)\n",
    "ax.set_xlabel('wx+b',fontsize=15)\n",
    "\n",
    "ax = axarr[0,1]\n",
    "ax.hist(y_data_pre_noise,50,alpha=0.4)\n",
    "ax.set_title('Y distribution pre-noise',fontsize=20)\n",
    "ax.set_xlim([0,1])\n",
    "ax.set_ylabel('Frequency',fontsize=15)\n",
    "ax.set_xlabel('Y Values',fontsize=15)\n",
    "\n",
    "ax = axarr[1,0]\n",
    "ax.plot(wxb,y_data,'o',ms=3,alpha=0.01)\n",
    "ax.plot([0,0],[0,1],'k--')\n",
    "ax.set_xlim([-3,3])\n",
    "ax.set_ylim([-0.2,1.2])\n",
    "ax.set_title('Y post-noise',fontsize=20)\n",
    "ax.set_ylabel('Y Values',fontsize=15)\n",
    "ax.set_xlabel('wx+b',fontsize=15)\n",
    "\n",
    "ax = axarr[1,1]\n",
    "ax.hist(y_data,30,alpha=0.4)\n",
    "ax.set_title('Y distribution post-noise',fontsize=20)\n",
    "ax.set_xlim([-0.2,1.2])\n",
    "ax.set_ylabel('Frequency',fontsize=15)\n",
    "ax.set_xlabel('Y Values',fontsize=15)\n",
    "\n",
    "\n",
    "plt.tight_layout()\n",
    "plt.show()"
   ]
  },
  {
   "cell_type": "code",
   "execution_count": 185,
   "metadata": {
    "collapsed": false
   },
   "outputs": [
    {
     "name": "stdout",
     "output_type": "stream",
     "text": [
      "0 [array([[ 0.03328711,  0.059005  ,  0.01087413]], dtype=float32), -0.026299978]\n",
      "4 [array([[ 0.12999323,  0.23086172,  0.04243677]], dtype=float32), -0.10251139]\n",
      "9 [array([[ 0.19891457,  0.35390699,  0.06483841]], dtype=float32), -0.15641923]\n",
      "14 [array([[ 0.23727539,  0.42272067,  0.07720824]], dtype=float32), -0.18605825]\n",
      "19 [array([[ 0.25936091,  0.46250927,  0.08426124]], dtype=float32), -0.20288409]\n",
      "24 [array([[ 0.27233875,  0.48598024,  0.08836313]], dtype=float32), -0.21263072]\n",
      "29 [array([[ 0.28005794,  0.49998951,  0.0907777 ]], dtype=float32), -0.21834861]\n",
      "34 [array([[ 0.28468278,  0.50840944,  0.09220965]], dtype=float32), -0.22173035]\n",
      "39 [array([[ 0.28746575,  0.51349074,  0.09306285]], dtype=float32), -0.22374117]\n",
      "44 [array([[ 0.28914481,  0.51656443,  0.09357275]], dtype=float32), -0.22494119]\n",
      "49 [array([[ 0.29015946,  0.5184263 ,  0.0938781 ]], dtype=float32), -0.22565921]\n"
     ]
    }
   ],
   "source": [
    "import tensorflow as tf\n",
    "\n",
    "# === Estimate weights =====\n",
    "g = tf.Graph()\n",
    "wb_ = []\n",
    "with g.as_default():\n",
    "    x = tf.placeholder(tf.float32,shape=(None,3))\n",
    "    y_true = tf.placeholder(tf.float32,shape=(None))\n",
    "\n",
    "    with tf.name_scope('inference') as scope:\n",
    "        w = tf.Variable([[0,0,0]],dtype=tf.float32,name='weights')\n",
    "        b = tf.Variable(0,dtype=tf.float32,name='bias')\n",
    "        y_pred = tf.matmul(w,tf.transpose(x)) + b\n",
    "    \n",
    "    with tf.name_scope('loss') as scope:\n",
    "        loss = tf.nn.sigmoid_cross_entropy_with_logits(labels=y_true,logits=y_pred) \n",
    "        loss = tf.reduce_mean(loss)\n",
    "\n",
    "    with tf.name_scope('train') as scope:\n",
    "        learning_rate = 0.5\n",
    "        optimizer = tf.train.GradientDescentOptimizer(learning_rate)\n",
    "        train = optimizer.minimize(loss)\n",
    "        \n",
    "    # Before starting, initialize the variables.  We will 'run' this first.\n",
    "    init = tf.global_variables_initializer()\n",
    "    with tf.Session() as sess:\n",
    "        sess.run(init)      \n",
    "        for step in range(50):\n",
    "            sess.run(train,{x: x_data, y_true: y_data})\n",
    "            if (step % 5 == 4) or (step == 0):\n",
    "                print(step, sess.run([w,b]))\n",
    "                wb_.append(sess.run([w,b]))"
   ]
  },
  {
   "cell_type": "code",
   "execution_count": 186,
   "metadata": {
    "collapsed": false
   },
   "outputs": [
    {
     "name": "stdout",
     "output_type": "stream",
     "text": [
      "-0.225659\n"
     ]
    },
    {
     "data": {
      "image/png": "[encoded data removed]",
      "text/plain": [
       "<matplotlib.figure.Figure at 0x7f8aea93e510>"
      ]
     },
     "metadata": {},
     "output_type": "display_data"
    }
   ],
   "source": [
    "print(wb_[-1][1])\n",
    "\n",
    "f,axarr = plt.subplots(1,figsize=[5,4])\n",
    "ax = axarr\n",
    "ax.plot([0.3,0.5,0.1],wb_[-1][0][0],'d',ms=10)\n",
    "ax.plot(-0.2,wb_[-1][1],'d',ms=10)\n",
    "\n",
    "ax.plot([-1.4,1.4],[-1.4,1.4],'k--')\n",
    "ax.axis([-0.25,0.55,-0.25,0.55])\n",
    "ax.set_ylabel(r'$\\hat{w}$',fontsize=30)\n",
    "ax.set_xlabel(r'$w$',fontsize=30)\n",
    "ax.legend(['w','b'],loc=2,numpoints=1)\n",
    "plt.tight_layout()\n",
    "plt.show()"
   ]
  },
  {
   "cell_type": "markdown",
   "metadata": {},
   "source": [
    "# Hands-on .3\n",
    "\n",
    "# Linear Regression\n",
    "\n",
    "## $$f(x_i) = w^Tx_i +b$$\n",
    "## $$y_i = f(x_i) + \\epsilon_i$$\n",
    "\n",
    "# Boston housing dataset\n",
    "\n",
    "The Boston Housing dataset is a relatively small dataset (506 samples), containing information concerning housing in the area of Boston Massachusetts. There are 13 predictors and the target variable is the median value of owner-occupied homes in $1000's "
   ]
  },
  {
   "cell_type": "code",
   "execution_count": 187,
   "metadata": {
    "collapsed": true
   },
   "outputs": [],
   "source": [
    "import tensorflow as tf \n",
    "from sklearn import datasets, metrics, preprocessing\n",
    "boston = datasets.load_boston()\n",
    "x_data = preprocessing.StandardScaler().fit_transform(boston.data)\n",
    "y_data = boston.target\n",
    "y_data = y_data.reshape(y_data.shape + (1,))"
   ]
  },
  {
   "cell_type": "code",
   "execution_count": 190,
   "metadata": {
    "collapsed": false
   },
   "outputs": [],
   "source": [
    "g = tf.Graph()\n",
    "with g.as_default():\n",
    "    # placeholders here\n",
    "\n",
    "\n",
    "    with tf.name_scope('inference') as scope:\n",
    "\n",
    "    with tf.name_scope('loss') as scope:\n",
    "\n",
    "    with tf.name_scope('train') as scope:\n",
    "\n",
    "\n",
    "    with tf.Session() as sess:\n",
    "        # initialize variables\n",
    "        \n",
    "        for step in range(200):\n",
    "            # run training and get MSE\n",
    "\n"
   ]
  },
  {
   "cell_type": "code",
   "execution_count": null,
   "metadata": {
    "collapsed": true
   },
   "outputs": [],
   "source": [
    "print()\"MSE = {}\".format(MSE))"
   ]
  }
 ],
 "metadata": {
  "anaconda-cloud": {},
  "kernelspec": {
   "display_name": "Python [default]",
   "language": "python",
   "name": "python3"
  },
  "language_info": {
   "codemirror_mode": {
    "name": "ipython",
    "version": 3
   },
   "file_extension": ".py",
   "mimetype": "text/x-python",
   "name": "python",
   "nbconvert_exporter": "python",
   "pygments_lexer": "ipython3",
   "version": "3.5.2"
  }
 },
 "nbformat": 4,
 "nbformat_minor": 0
}
